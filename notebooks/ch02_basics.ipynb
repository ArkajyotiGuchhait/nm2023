{
 "cells": [
  {
   "cell_type": "markdown",
   "id": "72a09a9c",
   "metadata": {},
   "source": [
    "# Content:\n",
    "1. [Python variables](#variables)\n",
    "2. [Data structures](#datastructures)\n",
    "3. [Control flow / Looping](#flow)\n",
    "4. [Python idioms](#idioms)\n",
    "5. [User-defined functions](#functions)"
   ]
  },
  {
   "cell_type": "markdown",
   "id": "e035e890",
   "metadata": {},
   "source": [
    "# 1. <a name=\"variables\">Python variables</a>"
   ]
  },
  {
   "cell_type": "markdown",
   "id": "51af1378",
   "metadata": {},
   "source": [
    "In a program, we deal with data. The value of the data are stored in containers that we commonly call as variables. \n",
    "Python is a dynamically typed language where the datatype of a data is determined by the value of the data."
   ]
  },
  {
   "cell_type": "code",
   "execution_count": 1,
   "id": "47a7cbe1",
   "metadata": {},
   "outputs": [],
   "source": [
    "x = 2; print(x, type(x))"
   ]
  },
  {
   "cell_type": "code",
   "execution_count": 2,
   "id": "141e4c99",
   "metadata": {},
   "outputs": [],
   "source": [
    "x = 2.; print(x, type(x))"
   ]
  },
  {
   "cell_type": "code",
   "execution_count": 3,
   "id": "28b3f133",
   "metadata": {},
   "outputs": [],
   "source": [
    "x = '2'; print(x, type(x))"
   ]
  },
  {
   "cell_type": "markdown",
   "id": "055804de",
   "metadata": {},
   "source": [
    "For declaring strings, one can use single or double quotes, and be consistent throughout the program."
   ]
  },
  {
   "cell_type": "markdown",
   "id": "873b46ed",
   "metadata": {},
   "source": [
    "From the above examples, we have also seen that the datatype of a variable can even change if the variable is reassigned a different value. "
   ]
  },
  {
   "cell_type": "markdown",
   "id": "95cf226d",
   "metadata": {},
   "source": [
    "Python variables _cannot_ have a fixed datatype. Variables refer to a specific location in the computer memory units. When we type `a=2.0`, the location in memory where `2.0` is stored is mapped to the variable. Once we change to another variable `x='two'`, the old reference to `2.0` is deleted and a new reference to `two` is mapped to the variable `x`."
   ]
  },
  {
   "cell_type": "markdown",
   "id": "f293cc64",
   "metadata": {},
   "source": [
    "It is possible to assign a value to a variable with the type specified. This is called _casting_. "
   ]
  },
  {
   "cell_type": "code",
   "execution_count": 4,
   "id": "c262d46c",
   "metadata": {},
   "outputs": [],
   "source": [
    "x = int(2); print(x, type(x))"
   ]
  },
  {
   "cell_type": "markdown",
   "id": "6c80e9ad",
   "metadata": {},
   "source": [
    "But this does not prevent the datatype of the variable to change upon a reassignment. "
   ]
  },
  {
   "cell_type": "code",
   "execution_count": 5,
   "id": "ab5efc43",
   "metadata": {},
   "outputs": [],
   "source": [
    "x = 2.; print(x, type(x))"
   ]
  },
  {
   "cell_type": "markdown",
   "id": "8ba9c65e",
   "metadata": {},
   "source": [
    "## 1.1 Variable names"
   ]
  },
  {
   "cell_type": "markdown",
   "id": "801c8e0e",
   "metadata": {},
   "source": [
    "* A variable name must start with a letter or the underscore character\n",
    "* A variable name cannot start with a number\n",
    "* A variable name can only contain alpha-numeric characters and underscores (A-z, 0-9, and _ )\n",
    "* Variable names are case-sensitive (val, Val and VAL are three different variables)"
   ]
  },
  {
   "cell_type": "code",
   "execution_count": 6,
   "id": "3b414265",
   "metadata": {},
   "outputs": [],
   "source": [
    "val = 2.0; print(val)"
   ]
  },
  {
   "cell_type": "code",
   "execution_count": 7,
   "id": "ba9c674e",
   "metadata": {},
   "outputs": [],
   "source": [
    "Val = 3.0; print(Val)"
   ]
  },
  {
   "cell_type": "code",
   "execution_count": 8,
   "id": "06530bdb",
   "metadata": {},
   "outputs": [],
   "source": [
    "VAL = 4.0; print(VAL)"
   ]
  },
  {
   "cell_type": "code",
   "execution_count": 9,
   "id": "e4c66349",
   "metadata": {},
   "outputs": [],
   "source": [
    "print(val, Val, VAL)"
   ]
  },
  {
   "cell_type": "markdown",
   "id": "315feab2",
   "metadata": {},
   "source": [
    "Never use the characters `l` (lowercase letter el), `O` (uppercase letter oh), or `I` (uppercase letter eye) as single character variable names because these characters are sometimes indistinguishable from the numerals one and zero. When tempted to use `l`, use `L` instead."
   ]
  },
  {
   "cell_type": "markdown",
   "id": "859ffc28",
   "metadata": {},
   "source": [
    "## 1.2 Long variable names"
   ]
  },
  {
   "cell_type": "markdown",
   "id": "f09a3596",
   "metadata": {},
   "source": [
    "For long variable names with more than one word, one should make the name readable by using one the following conventions"
   ]
  },
  {
   "cell_type": "markdown",
   "id": "80c950c7",
   "metadata": {},
   "source": [
    "_Camel case_, where from the second word, first letter is capitalized"
   ]
  },
  {
   "cell_type": "code",
   "execution_count": 10,
   "id": "125344a5",
   "metadata": {},
   "outputs": [],
   "source": [
    "localPropertyIndex=1"
   ]
  },
  {
   "cell_type": "markdown",
   "id": "fd463064",
   "metadata": {},
   "source": [
    "_Pascal case_, where the first letter of each word is capitalized."
   ]
  },
  {
   "cell_type": "code",
   "execution_count": 11,
   "id": "4f6ca4f9",
   "metadata": {},
   "outputs": [],
   "source": [
    "LocalPropertyIndex=1"
   ]
  },
  {
   "cell_type": "markdown",
   "id": "8122b526",
   "metadata": {},
   "source": [
    "_Snake case_, where each word is separated by an underscore. "
   ]
  },
  {
   "cell_type": "code",
   "execution_count": 12,
   "id": "ff323346",
   "metadata": {},
   "outputs": [],
   "source": [
    "local_property_index=1"
   ]
  },
  {
   "cell_type": "markdown",
   "id": "478f261f",
   "metadata": {},
   "source": [
    "# 2. <a name=\"datastructures\">Data structures</a>"
   ]
  },
  {
   "cell_type": "markdown",
   "id": "a96f43c3",
   "metadata": {},
   "source": [
    "One collect basic Python data in containers (or compound data) also called as data structures. "
   ]
  },
  {
   "cell_type": "markdown",
   "id": "5d11eae5",
   "metadata": {},
   "source": [
    "## 2.1 string"
   ]
  },
  {
   "cell_type": "code",
   "execution_count": 13,
   "id": "2d6530cd",
   "metadata": {},
   "outputs": [],
   "source": [
    "val='Apple'"
   ]
  },
  {
   "cell_type": "code",
   "execution_count": 14,
   "id": "38d0b725",
   "metadata": {},
   "outputs": [
    {
     "name": "stdout",
     "output_type": "stream",
     "text": [
      "A\n"
     ]
    }
   ],
   "source": [
    "print(val[0])"
   ]
  },
  {
   "cell_type": "code",
   "execution_count": 15,
   "id": "0d7648d8",
   "metadata": {},
   "outputs": [
    {
     "name": "stdout",
     "output_type": "stream",
     "text": [
      "e\n"
     ]
    }
   ],
   "source": [
    "print(val[-1]) # last entry"
   ]
  },
  {
   "cell_type": "code",
   "execution_count": 16,
   "id": "649815ed",
   "metadata": {},
   "outputs": [
    {
     "name": "stdout",
     "output_type": "stream",
     "text": [
      "5\n"
     ]
    }
   ],
   "source": [
    "print(len(val))"
   ]
  },
  {
   "cell_type": "markdown",
   "id": "aaa71025",
   "metadata": {},
   "source": [
    "## 2.2 set"
   ]
  },
  {
   "cell_type": "code",
   "execution_count": 17,
   "id": "7de78958",
   "metadata": {},
   "outputs": [
    {
     "name": "stdout",
     "output_type": "stream",
     "text": [
      "{1, 2, 3}\n"
     ]
    }
   ],
   "source": [
    "A={3,1,2} # A set is always ordered\n",
    "print(A) "
   ]
  },
  {
   "cell_type": "code",
   "execution_count": 18,
   "id": "837c8eca",
   "metadata": {},
   "outputs": [
    {
     "name": "stdout",
     "output_type": "stream",
     "text": [
      "{1, 2, 3}\n"
     ]
    }
   ],
   "source": [
    "A={3,1,2,3} # A set cannot have duplicates\n",
    "print(A) "
   ]
  },
  {
   "cell_type": "code",
   "execution_count": 19,
   "id": "2ec323b0",
   "metadata": {},
   "outputs": [
    {
     "name": "stdout",
     "output_type": "stream",
     "text": [
      "{'aa', 'a', 'b'}\n"
     ]
    }
   ],
   "source": [
    "A={'a','aa','b'} # A set is always ordered\n",
    "print(A) "
   ]
  },
  {
   "cell_type": "markdown",
   "id": "400c6472",
   "metadata": {},
   "source": [
    "You cannot call an individual element of a set. Uncomment the following line, click run and see what happens."
   ]
  },
  {
   "cell_type": "code",
   "execution_count": 20,
   "id": "049a99b0",
   "metadata": {},
   "outputs": [],
   "source": [
    "# print(A[1])"
   ]
  },
  {
   "cell_type": "markdown",
   "id": "745ea5e2",
   "metadata": {},
   "source": [
    "## 2.3 tuple"
   ]
  },
  {
   "cell_type": "code",
   "execution_count": 21,
   "id": "a177a3de",
   "metadata": {},
   "outputs": [
    {
     "name": "stdout",
     "output_type": "stream",
     "text": [
      "2\n"
     ]
    }
   ],
   "source": [
    "A=(1,2,3)\n",
    "print(A[1])"
   ]
  },
  {
   "cell_type": "markdown",
   "id": "e19fe8bd",
   "metadata": {},
   "source": [
    "A tuple is immutable, which means that you cannot change the value of an element in a tuple. Uncomment the following line, click run and see what happens."
   ]
  },
  {
   "cell_type": "code",
   "execution_count": 22,
   "id": "c02fa102",
   "metadata": {},
   "outputs": [],
   "source": [
    "#A[1]=4\n",
    "#print(A[1])"
   ]
  },
  {
   "cell_type": "markdown",
   "id": "72a773f4",
   "metadata": {},
   "source": [
    "## 2.4 list"
   ]
  },
  {
   "cell_type": "code",
   "execution_count": 23,
   "id": "4cccfa9b",
   "metadata": {},
   "outputs": [
    {
     "name": "stdout",
     "output_type": "stream",
     "text": [
      "2\n"
     ]
    }
   ],
   "source": [
    "A=[1,2,3]\n",
    "print(A[1])"
   ]
  },
  {
   "cell_type": "code",
   "execution_count": 24,
   "id": "67657ced",
   "metadata": {},
   "outputs": [
    {
     "name": "stdout",
     "output_type": "stream",
     "text": [
      "[1, 4, 3]\n"
     ]
    }
   ],
   "source": [
    "A[1]=4\n",
    "print(A)"
   ]
  },
  {
   "cell_type": "markdown",
   "id": "fcafa445",
   "metadata": {},
   "source": [
    "## 2.5 dictionary"
   ]
  },
  {
   "cell_type": "code",
   "execution_count": 25,
   "id": "6400b86a",
   "metadata": {},
   "outputs": [],
   "source": [
    "swdict={               \\\n",
    "        'Luke':23,     \\\n",
    "        'Leia':23,     \\\n",
    "        'Hans Solo':36,\\\n",
    "        'Chewbacca':203\\\n",
    "       }\n",
    "\n",
    "#swdict={'Luke':23, 'Leia':23, 'Hans Solo':36,'Chewbacca':203} # dict in single-line"
   ]
  },
  {
   "cell_type": "code",
   "execution_count": 26,
   "id": "901f227c",
   "metadata": {},
   "outputs": [
    {
     "name": "stdout",
     "output_type": "stream",
     "text": [
      "{'Luke': 23, 'Leia': 23, 'Hans Solo': 36, 'Chewbacca': 203}\n"
     ]
    }
   ],
   "source": [
    "print(swdict)"
   ]
  },
  {
   "cell_type": "markdown",
   "id": "21441251",
   "metadata": {},
   "source": [
    "You can query (i.e. get/obtain) the value of an element (i.e. an entry) in the set py providing the corresponding key (i.e. label) as a string argument."
   ]
  },
  {
   "cell_type": "code",
   "execution_count": 27,
   "id": "8c6ac0a9",
   "metadata": {},
   "outputs": [
    {
     "data": {
      "text/plain": [
       "203"
      ]
     },
     "execution_count": 27,
     "metadata": {},
     "output_type": "execute_result"
    }
   ],
   "source": [
    "swdict['Chewbacca']"
   ]
  },
  {
   "cell_type": "code",
   "execution_count": 28,
   "id": "a6139536",
   "metadata": {},
   "outputs": [
    {
     "name": "stdout",
     "output_type": "stream",
     "text": [
      "'Chewbacca' is the key and  203  is its value\n"
     ]
    }
   ],
   "source": [
    "print('\\'Chewbacca\\' is the key and ', swdict['Chewbacca'], ' is its value')"
   ]
  },
  {
   "cell_type": "markdown",
   "id": "d32b395d",
   "metadata": {},
   "source": [
    "Let's update the dictionary, i.e. add a new entry"
   ]
  },
  {
   "cell_type": "code",
   "execution_count": 29,
   "id": "1fa804b7",
   "metadata": {},
   "outputs": [
    {
     "name": "stdout",
     "output_type": "stream",
     "text": [
      "{'Luke': 23, 'Leia': 23, 'Hans Solo': 36, 'Chewbacca': 203, 'Darth Vader': 45}\n"
     ]
    }
   ],
   "source": [
    "swdict['Darth Vader']=45 # add an entry\n",
    "print(swdict)"
   ]
  },
  {
   "cell_type": "markdown",
   "id": "f69b464a",
   "metadata": {},
   "source": [
    "You can also remove an entry from the dictionary"
   ]
  },
  {
   "cell_type": "code",
   "execution_count": 30,
   "id": "d067d94a",
   "metadata": {},
   "outputs": [
    {
     "name": "stdout",
     "output_type": "stream",
     "text": [
      "{'Luke': 23, 'Hans Solo': 36, 'Chewbacca': 203, 'Darth Vader': 45}\n"
     ]
    }
   ],
   "source": [
    "del swdict['Leia'] # remove an entry\n",
    "print(swdict) "
   ]
  },
  {
   "cell_type": "markdown",
   "id": "e9fa93e2",
   "metadata": {},
   "source": [
    "You can delete the entire dictionary if needed"
   ]
  },
  {
   "cell_type": "code",
   "execution_count": 31,
   "id": "714dd881",
   "metadata": {},
   "outputs": [],
   "source": [
    "del swdict \n",
    "#print(swdict)"
   ]
  },
  {
   "cell_type": "markdown",
   "id": "e696c4fd",
   "metadata": {},
   "source": [
    "You can query on an element of `string`, `tuple`, `list` or a `dictionary` using square brackets. For the `string`, `tuple`, and `list`, one can use the index. For `dictionary`, one has to use the key as the index."
   ]
  },
  {
   "cell_type": "code",
   "execution_count": 32,
   "id": "33c9bc8b",
   "metadata": {},
   "outputs": [
    {
     "name": "stdout",
     "output_type": "stream",
     "text": [
      "p\n"
     ]
    }
   ],
   "source": [
    "val='Apple'; print(val[1])"
   ]
  },
  {
   "cell_type": "code",
   "execution_count": 33,
   "id": "0c9a9301",
   "metadata": {},
   "outputs": [
    {
     "name": "stdout",
     "output_type": "stream",
     "text": [
      "A\n"
     ]
    }
   ],
   "source": [
    "A=(1,'A',3); print(A[1])"
   ]
  },
  {
   "cell_type": "code",
   "execution_count": 34,
   "id": "e6080759",
   "metadata": {},
   "outputs": [
    {
     "name": "stdout",
     "output_type": "stream",
     "text": [
      "A 3\n"
     ]
    }
   ],
   "source": [
    "A=[1,'A',3]; print(A[1],A[2])"
   ]
  },
  {
   "cell_type": "code",
   "execution_count": 35,
   "id": "c3acdebd",
   "metadata": {},
   "outputs": [
    {
     "name": "stdout",
     "output_type": "stream",
     "text": [
      "60\n"
     ]
    }
   ],
   "source": [
    "stat={'Runs':60,  'Wickets':10 }; print(stat['Runs'])"
   ]
  },
  {
   "cell_type": "markdown",
   "id": "6a5cc6a5",
   "metadata": {},
   "source": [
    "### Shallow copy and deep copy"
   ]
  },
  {
   "cell_type": "code",
   "execution_count": 36,
   "id": "c325ae27",
   "metadata": {},
   "outputs": [
    {
     "name": "stdout",
     "output_type": "stream",
     "text": [
      "[1, 4, 3] [1, 4, 3]\n"
     ]
    }
   ],
   "source": [
    "A=[1,2,3]\n",
    "B=A     # This is a shallow copy.\n",
    "B[1]=4  # If you reassign a value in B, it also affects A\n",
    "print(A,B)"
   ]
  },
  {
   "cell_type": "code",
   "execution_count": 37,
   "id": "48b954a4",
   "metadata": {},
   "outputs": [
    {
     "name": "stdout",
     "output_type": "stream",
     "text": [
      "[1, 2, 3] [1, 4, 3]\n"
     ]
    }
   ],
   "source": [
    "A=[1,2,3]\n",
    "B=A.copy()   # This is a deep copy.\n",
    "B[1]=4       # If you reassign a value in B, it does not affect A\n",
    "print(A,B)"
   ]
  },
  {
   "cell_type": "markdown",
   "id": "fc115875",
   "metadata": {},
   "source": [
    "# 3. <a name=\"flow\">Control flow / Looping</a>"
   ]
  },
  {
   "cell_type": "markdown",
   "id": "fa8001d9",
   "metadata": {},
   "source": [
    "## 3.1 if"
   ]
  },
  {
   "cell_type": "code",
   "execution_count": 38,
   "id": "393b097b",
   "metadata": {},
   "outputs": [
    {
     "name": "stdout",
     "output_type": "stream",
     "text": [
      "b > a\n"
     ]
    }
   ],
   "source": [
    "a = 1\n",
    "b = 2\n",
    "\n",
    "if b > a:\n",
    "    print('b > a')\n",
    "elif a == b:\n",
    "    print('a and b are equal')\n",
    "else:\n",
    "    print('b < a')"
   ]
  },
  {
   "cell_type": "markdown",
   "id": "78e90754",
   "metadata": {},
   "source": [
    "## 3.2 for"
   ]
  },
  {
   "cell_type": "code",
   "execution_count": 39,
   "id": "315b99c6",
   "metadata": {},
   "outputs": [
    {
     "name": "stdout",
     "output_type": "stream",
     "text": [
      "A\n",
      "B\n",
      "C\n"
     ]
    }
   ],
   "source": [
    "A =['A','B','C']\n",
    "\n",
    "for i in A:\n",
    "    print(i)"
   ]
  },
  {
   "cell_type": "markdown",
   "id": "4fde9448",
   "metadata": {},
   "source": [
    "## 3.3 continue/break"
   ]
  },
  {
   "cell_type": "code",
   "execution_count": 40,
   "id": "33a8ac5a",
   "metadata": {},
   "outputs": [
    {
     "name": "stdout",
     "output_type": "stream",
     "text": [
      "0\n",
      "1\n",
      "2\n",
      "3\n",
      "4\n",
      "6\n",
      "7\n",
      "8\n",
      "9\n"
     ]
    }
   ],
   "source": [
    "for i in range(10):\n",
    "    if i == 5:\n",
    "        continue  # skips with i is 5\n",
    "    print(i)"
   ]
  },
  {
   "cell_type": "code",
   "execution_count": 41,
   "id": "c8034ae2",
   "metadata": {},
   "outputs": [
    {
     "name": "stdout",
     "output_type": "stream",
     "text": [
      "0\n",
      "1\n",
      "2\n",
      "3\n",
      "4\n"
     ]
    }
   ],
   "source": [
    "for i in range(10):\n",
    "    if i == 5:\n",
    "        break  # skips the entire loop when i is 5\n",
    "    print(i)"
   ]
  },
  {
   "cell_type": "markdown",
   "id": "e3e9f651",
   "metadata": {},
   "source": [
    "## 3.4 for/else"
   ]
  },
  {
   "cell_type": "markdown",
   "id": "bed2d15b",
   "metadata": {},
   "source": [
    "In the `for/else` structure, `else` is encountered only after the loop is finished."
   ]
  },
  {
   "cell_type": "code",
   "execution_count": 42,
   "id": "8fe9bd48",
   "metadata": {},
   "outputs": [
    {
     "name": "stdout",
     "output_type": "stream",
     "text": [
      "0\n",
      "1\n",
      "2\n",
      "3\n",
      "4\n",
      "Values >= 5 not encountered\n"
     ]
    }
   ],
   "source": [
    "for i in range(5):\n",
    "    print(i)\n",
    "else:\n",
    "    print('Values >= 5 not encountered')"
   ]
  },
  {
   "cell_type": "markdown",
   "id": "8507f76d",
   "metadata": {},
   "source": [
    "## 3.5 while"
   ]
  },
  {
   "cell_type": "code",
   "execution_count": 43,
   "id": "2400748a",
   "metadata": {},
   "outputs": [
    {
     "name": "stdout",
     "output_type": "stream",
     "text": [
      "0.9\n",
      "0.8\n",
      "0.7000000000000001\n",
      "0.6000000000000001\n",
      "0.5000000000000001\n",
      "0.40000000000000013\n",
      "0.30000000000000016\n",
      "0.20000000000000015\n",
      "0.10000000000000014\n",
      "1.3877787807814457e-16\n"
     ]
    }
   ],
   "source": [
    "dx = 1\n",
    "while dx > 1e-2:\n",
    "    dx -= 0.1\n",
    "    print(dx)"
   ]
  },
  {
   "cell_type": "markdown",
   "id": "0ecc531d",
   "metadata": {},
   "source": [
    "# 4. <a name=\"idioms\">Python idioms</a>"
   ]
  },
  {
   "cell_type": "markdown",
   "id": "9d955c3f",
   "metadata": {},
   "source": [
    "## 4.1 Multiple assignment"
   ]
  },
  {
   "cell_type": "markdown",
   "id": "1e9323ae",
   "metadata": {},
   "source": [
    "Use"
   ]
  },
  {
   "cell_type": "code",
   "execution_count": 44,
   "id": "561d30cd",
   "metadata": {},
   "outputs": [
    {
     "name": "stdout",
     "output_type": "stream",
     "text": [
      "1 1\n"
     ]
    }
   ],
   "source": [
    "x = y = 1 \n",
    "print(x,y)"
   ]
  },
  {
   "cell_type": "markdown",
   "id": "d665ea99",
   "metadata": {},
   "source": [
    "instead of "
   ]
  },
  {
   "cell_type": "code",
   "execution_count": 45,
   "id": "121037e6",
   "metadata": {},
   "outputs": [
    {
     "name": "stdout",
     "output_type": "stream",
     "text": [
      "1 1\n"
     ]
    }
   ],
   "source": [
    "x = 1\n",
    "y = 1\n",
    "print(x,y)"
   ]
  },
  {
   "cell_type": "markdown",
   "id": "55ddbf21",
   "metadata": {},
   "source": [
    "Multiple values can be assigned in a single line too."
   ]
  },
  {
   "cell_type": "code",
   "execution_count": 46,
   "id": "4cd2b29f",
   "metadata": {},
   "outputs": [
    {
     "name": "stdout",
     "output_type": "stream",
     "text": [
      "1 2\n"
     ]
    }
   ],
   "source": [
    "x, y = 1, 2\n",
    "print(x,y)"
   ]
  },
  {
   "cell_type": "markdown",
   "id": "5aa8b93a",
   "metadata": {},
   "source": [
    "An application of the last line is how two values can be swapped in a single line."
   ]
  },
  {
   "cell_type": "code",
   "execution_count": 47,
   "id": "19583ed6",
   "metadata": {},
   "outputs": [
    {
     "name": "stdout",
     "output_type": "stream",
     "text": [
      "1 2\n",
      "2 1\n"
     ]
    }
   ],
   "source": [
    "x, y = 1, 2\n",
    "print(x,y)\n",
    "\n",
    "#swap\n",
    "x, y = y, x\n",
    "print(x,y)"
   ]
  },
  {
   "cell_type": "markdown",
   "id": "7b91b15f",
   "metadata": {},
   "source": [
    "Think about how to swap two variables in C++ or Fortran."
   ]
  },
  {
   "cell_type": "markdown",
   "id": "1288b6e7",
   "metadata": {},
   "source": [
    "## 4.2 Integer/Float increment"
   ]
  },
  {
   "cell_type": "code",
   "execution_count": 48,
   "id": "9641bf7f",
   "metadata": {},
   "outputs": [
    {
     "name": "stdout",
     "output_type": "stream",
     "text": [
      "1.5\n"
     ]
    }
   ],
   "source": [
    "x = 1.0\n",
    "x += 0.5 # Instead of x = x + 0.5 \n",
    "print(x)"
   ]
  },
  {
   "cell_type": "code",
   "execution_count": 49,
   "id": "9641b35d",
   "metadata": {},
   "outputs": [
    {
     "name": "stdout",
     "output_type": "stream",
     "text": [
      "-0.5\n"
     ]
    }
   ],
   "source": [
    "x = 0.0\n",
    "x -= 0.5 # Instead of x = x - 0.5 \n",
    "print(x)"
   ]
  },
  {
   "cell_type": "code",
   "execution_count": 50,
   "id": "b75d6e43",
   "metadata": {},
   "outputs": [
    {
     "name": "stdout",
     "output_type": "stream",
     "text": [
      "6\n"
     ]
    }
   ],
   "source": [
    "x = 1\n",
    "x *= 2 # Instead of x = x * 2 \n",
    "x *= 3 # Instead of x = x * 3 \n",
    "print(x)"
   ]
  },
  {
   "cell_type": "code",
   "execution_count": 51,
   "id": "26b56543",
   "metadata": {},
   "outputs": [
    {
     "name": "stdout",
     "output_type": "stream",
     "text": [
      "0.16666666666666666  is same as 1/6\n"
     ]
    }
   ],
   "source": [
    "x = 1.0\n",
    "x /= 2 # Instead of x = x / 2 \n",
    "x /= 3 # Instead of x = x / 3 \n",
    "print(x, ' is same as 1/6')"
   ]
  },
  {
   "cell_type": "markdown",
   "id": "d36fbb86",
   "metadata": {},
   "source": [
    "## 4.3 Chained comparison"
   ]
  },
  {
   "cell_type": "code",
   "execution_count": 52,
   "id": "5296608d",
   "metadata": {},
   "outputs": [],
   "source": [
    "x, y, z = 1, 2, 3"
   ]
  },
  {
   "cell_type": "code",
   "execution_count": 53,
   "id": "3f71c364",
   "metadata": {},
   "outputs": [
    {
     "name": "stdout",
     "output_type": "stream",
     "text": [
      "x<y<z\n"
     ]
    }
   ],
   "source": [
    "# Suppose you want\n",
    "if x <= y and y <= z:\n",
    "    print('x<y<z')\n",
    "else:\n",
    "    print('x, y, z are not in desired order')"
   ]
  },
  {
   "cell_type": "code",
   "execution_count": 54,
   "id": "34c72539",
   "metadata": {},
   "outputs": [
    {
     "name": "stdout",
     "output_type": "stream",
     "text": [
      "x<y<z\n"
     ]
    }
   ],
   "source": [
    "# You should use\n",
    "if x <= y <= z:\n",
    "    print('x<y<z')\n",
    "else:\n",
    "    print('x, y, z are not in desired order')"
   ]
  },
  {
   "cell_type": "markdown",
   "id": "564c1fde",
   "metadata": {},
   "source": [
    "## 4.4 True/False conditions "
   ]
  },
  {
   "cell_type": "code",
   "execution_count": 55,
   "id": "f6e2ebd2",
   "metadata": {},
   "outputs": [],
   "source": [
    "x, y = 1, 2\n",
    "\n",
    "if x < y:\n",
    "    status = True"
   ]
  },
  {
   "cell_type": "code",
   "execution_count": 56,
   "id": "4f79d3ed",
   "metadata": {},
   "outputs": [
    {
     "name": "stdout",
     "output_type": "stream",
     "text": [
      "Condition reached\n"
     ]
    }
   ],
   "source": [
    "# Suppose we want\n",
    "if status == True:\n",
    "    print('Condition reached')"
   ]
  },
  {
   "cell_type": "code",
   "execution_count": 57,
   "id": "1f3a8c14",
   "metadata": {},
   "outputs": [
    {
     "name": "stdout",
     "output_type": "stream",
     "text": [
      "Condition reached\n"
     ]
    }
   ],
   "source": [
    "# You should use\n",
    "if status:\n",
    "    print('Condition reached')"
   ]
  },
  {
   "cell_type": "markdown",
   "id": "f72520a7",
   "metadata": {},
   "source": [
    "Note that you can have 0 instead of False and any other value for True."
   ]
  },
  {
   "cell_type": "code",
   "execution_count": 58,
   "id": "252d844d",
   "metadata": {},
   "outputs": [],
   "source": [
    "a = 0\n",
    "\n",
    "if a:\n",
    "    print(a)\n",
    "\n",
    "# will not print anything"
   ]
  },
  {
   "cell_type": "code",
   "execution_count": 59,
   "id": "fb9edc30",
   "metadata": {},
   "outputs": [
    {
     "name": "stdout",
     "output_type": "stream",
     "text": [
      "-2.5\n"
     ]
    }
   ],
   "source": [
    "a = -2.5\n",
    "\n",
    "if a:\n",
    "    print(a)"
   ]
  },
  {
   "cell_type": "markdown",
   "id": "eaf1fe57",
   "metadata": {},
   "source": [
    "## 4.5 Printing repeated characters"
   ]
  },
  {
   "cell_type": "code",
   "execution_count": 60,
   "id": "f65b285e",
   "metadata": {},
   "outputs": [
    {
     "name": "stdout",
     "output_type": "stream",
     "text": [
      "-----------\n",
      "Answer: 1.0\n",
      "-----------\n"
     ]
    }
   ],
   "source": [
    "a=1.0\n",
    "\n",
    "# Suppose we want\n",
    "print('-----------')\n",
    "print('Answer:',a)\n",
    "print('-----------')"
   ]
  },
  {
   "cell_type": "code",
   "execution_count": 61,
   "id": "f7d289cb",
   "metadata": {},
   "outputs": [
    {
     "name": "stdout",
     "output_type": "stream",
     "text": [
      "-----------\n",
      "Answer: 1.0\n",
      "-----------\n"
     ]
    }
   ],
   "source": [
    "# You should use\n",
    "print('{0}'.format('-'*11))\n",
    "print('Answer:',a)\n",
    "print('{0}'.format('-'*11))"
   ]
  },
  {
   "cell_type": "code",
   "execution_count": 62,
   "id": "2556ad3f",
   "metadata": {},
   "outputs": [
    {
     "name": "stdout",
     "output_type": "stream",
     "text": [
      "-----------\n",
      "Answer:1.0\n",
      "-----------\n"
     ]
    }
   ],
   "source": [
    "# Or even better is to use\n",
    "print('{0}\\nAnswer:{1}\\n{0}'.format('-'*11,a))"
   ]
  },
  {
   "cell_type": "markdown",
   "id": "3e9a9612",
   "metadata": {},
   "source": [
    "## 4.6 Assigning a list"
   ]
  },
  {
   "cell_type": "code",
   "execution_count": 63,
   "id": "d5a26358",
   "metadata": {},
   "outputs": [
    {
     "name": "stdout",
     "output_type": "stream",
     "text": [
      "[0, 1, 2, 3, 4]\n"
     ]
    }
   ],
   "source": [
    "# Suppose you want\n",
    "indices = []\n",
    "for i in range(5):\n",
    "    indices.append(i)\n",
    "\n",
    "print(indices)"
   ]
  },
  {
   "cell_type": "code",
   "execution_count": 64,
   "id": "b635612e",
   "metadata": {},
   "outputs": [
    {
     "name": "stdout",
     "output_type": "stream",
     "text": [
      "[0, 1, 2, 3, 4]\n"
     ]
    }
   ],
   "source": [
    "# You should use\n",
    "indices = [i for i in range(5)]\n",
    "print(indices)"
   ]
  },
  {
   "cell_type": "markdown",
   "id": "095ad1fa",
   "metadata": {},
   "source": [
    "Suppose you want to include a condition, say you want only odd numbers."
   ]
  },
  {
   "cell_type": "code",
   "execution_count": 65,
   "id": "987794cc",
   "metadata": {},
   "outputs": [
    {
     "name": "stdout",
     "output_type": "stream",
     "text": [
      "[1, 3, 5, 7, 9]\n"
     ]
    }
   ],
   "source": [
    "# Suppose you want\n",
    "indices = []\n",
    "for i in range(10):\n",
    "    if i%2 == 1:\n",
    "        indices.append(i)\n",
    "\n",
    "print(indices)"
   ]
  },
  {
   "cell_type": "code",
   "execution_count": 66,
   "id": "356b0a72",
   "metadata": {},
   "outputs": [
    {
     "name": "stdout",
     "output_type": "stream",
     "text": [
      "[1, 3, 5, 7, 9]\n"
     ]
    }
   ],
   "source": [
    "# You should use\n",
    "indices = [i for i in range(10) if i%2 == 1]\n",
    "print(indices)"
   ]
  },
  {
   "cell_type": "code",
   "execution_count": 67,
   "id": "1b363639",
   "metadata": {},
   "outputs": [
    {
     "name": "stdout",
     "output_type": "stream",
     "text": [
      "[1, 3, 5, 7, 9]\n"
     ]
    }
   ],
   "source": [
    "# You can use the concept that 0 can be used for False\n",
    "indices = [i for i in range(10) if (i%2)]\n",
    "print(indices)"
   ]
  },
  {
   "cell_type": "code",
   "execution_count": 68,
   "id": "31121ab2",
   "metadata": {},
   "outputs": [
    {
     "name": "stdout",
     "output_type": "stream",
     "text": [
      "[0, 2, 4, 6, 8]\n"
     ]
    }
   ],
   "source": [
    "indices = [i for i in range(10) if not(i%2)]\n",
    "print(indices)"
   ]
  },
  {
   "cell_type": "markdown",
   "id": "95922d26",
   "metadata": {},
   "source": [
    "## 4.7 Set properties"
   ]
  },
  {
   "cell_type": "code",
   "execution_count": 69,
   "id": "7c93624b",
   "metadata": {},
   "outputs": [
    {
     "name": "stdout",
     "output_type": "stream",
     "text": [
      "[0, 1, 2, 3, 4, 5] [0, 1, 2, 3, 4, 5, 6, 7, 8, 9, 10]\n"
     ]
    }
   ],
   "source": [
    "A = [i for i in range(6)]\n",
    "B = [i for i in range(11)]\n",
    "print(A,B)"
   ]
  },
  {
   "cell_type": "code",
   "execution_count": 70,
   "id": "973228f6",
   "metadata": {},
   "outputs": [
    {
     "name": "stdout",
     "output_type": "stream",
     "text": [
      "{0, 1, 2, 3, 4, 5} {0, 1, 2, 3, 4, 5, 6, 7, 8, 9, 10}\n"
     ]
    }
   ],
   "source": [
    "A, B = set(A), set(B)\n",
    "print(A,B)"
   ]
  },
  {
   "cell_type": "code",
   "execution_count": 71,
   "id": "65510315",
   "metadata": {},
   "outputs": [
    {
     "name": "stdout",
     "output_type": "stream",
     "text": [
      "{0, 1, 2, 3, 4, 5, 6, 7, 8, 9, 10}\n",
      "[0, 1, 2, 3, 4, 5, 6, 7, 8, 9, 10]\n"
     ]
    }
   ],
   "source": [
    "# Union\n",
    "print( A | B )\n",
    "print( list(A | B) )"
   ]
  },
  {
   "cell_type": "code",
   "execution_count": 72,
   "id": "64042f81",
   "metadata": {},
   "outputs": [
    {
     "name": "stdout",
     "output_type": "stream",
     "text": [
      "[0, 1, 2, 3, 4, 5]\n"
     ]
    }
   ],
   "source": [
    "# Intersection\n",
    "print( list( A & B ) )"
   ]
  },
  {
   "cell_type": "code",
   "execution_count": 73,
   "id": "5ed0fb65",
   "metadata": {},
   "outputs": [
    {
     "name": "stdout",
     "output_type": "stream",
     "text": [
      "[6, 7, 8, 9, 10]\n"
     ]
    }
   ],
   "source": [
    "# Union - Intersection \n",
    "# Symmetric difference. Either in A or B, but not common\n",
    "print( list( A ^ B ) )"
   ]
  },
  {
   "cell_type": "code",
   "execution_count": 74,
   "id": "55534c71",
   "metadata": {},
   "outputs": [
    {
     "name": "stdout",
     "output_type": "stream",
     "text": [
      "[]\n"
     ]
    }
   ],
   "source": [
    "# In A not in B\n",
    "print( list( A - B ) )"
   ]
  },
  {
   "cell_type": "code",
   "execution_count": 75,
   "id": "5afb4c69",
   "metadata": {},
   "outputs": [
    {
     "name": "stdout",
     "output_type": "stream",
     "text": [
      "[6, 7, 8, 9, 10]\n"
     ]
    }
   ],
   "source": [
    "# In B not in A\n",
    "print( list( B - A ) )"
   ]
  },
  {
   "cell_type": "markdown",
   "id": "d761fa5e",
   "metadata": {},
   "source": [
    "# 5. <a name=\"functions\">User-defined functions</a>"
   ]
  },
  {
   "cell_type": "markdown",
   "id": "af8bae54",
   "metadata": {},
   "source": [
    "If part of your code performing a task is repeated multiple times, it is best to define that part of the code as a function. Here is how you can make your own function. This function will determine if an input data is an integer or not. The output will be 'true' if the data is an integer and 'false' is the data is not an integer."
   ]
  },
  {
   "cell_type": "code",
   "execution_count": 76,
   "id": "0aa0a775",
   "metadata": {},
   "outputs": [],
   "source": [
    "def is_int(x):\n",
    "    '''\n",
    "    Takes an object as input and returns a boolean data as output.\n",
    "    Later, I have to add more information here\n",
    "    \n",
    "    Example case 1: \n",
    "    ---------------\n",
    "       use it to check whether a number is an integer\n",
    "       is_int(5)\n",
    "    '''\n",
    "    out=False       # Assign False at the beginning \n",
    "    \n",
    "    data_1=type(x)\n",
    "    data_2=type(1)\n",
    "    \n",
    "    out = data_1 == data_2\n",
    "    #if data_1 == data_2:\n",
    "    #    out=True\n",
    "    \n",
    "    return(out)"
   ]
  },
  {
   "cell_type": "code",
   "execution_count": 77,
   "id": "c18ec47c",
   "metadata": {},
   "outputs": [
    {
     "name": "stdout",
     "output_type": "stream",
     "text": [
      "Help on function is_int in module __main__:\n",
      "\n",
      "is_int(x)\n",
      "    Takes an object as input and returns a boolean data as output.\n",
      "    Later, I have to add more information here\n",
      "    \n",
      "    Example case 1: \n",
      "    ---------------\n",
      "       use it to check whether a number is an integer\n",
      "       is_int(5)\n",
      "\n"
     ]
    }
   ],
   "source": [
    "help(is_int)"
   ]
  },
  {
   "cell_type": "code",
   "execution_count": 78,
   "id": "b64ffb7e",
   "metadata": {},
   "outputs": [
    {
     "name": "stdout",
     "output_type": "stream",
     "text": [
      "\n",
      "    Takes an object as input and returns a boolean data as output.\n",
      "    Later, I have to add more information here\n",
      "    \n",
      "    Example case 1: \n",
      "    ---------------\n",
      "       use it to check whether a number is an integer\n",
      "       is_int(5)\n",
      "    \n"
     ]
    }
   ],
   "source": [
    "print(is_int.__doc__)"
   ]
  },
  {
   "cell_type": "code",
   "execution_count": 79,
   "id": "ae893986",
   "metadata": {},
   "outputs": [
    {
     "data": {
      "text/plain": [
       "True"
      ]
     },
     "execution_count": 79,
     "metadata": {},
     "output_type": "execute_result"
    }
   ],
   "source": [
    "is_int(4)"
   ]
  },
  {
   "cell_type": "code",
   "execution_count": 80,
   "id": "2ca278cc",
   "metadata": {},
   "outputs": [
    {
     "data": {
      "text/plain": [
       "False"
      ]
     },
     "execution_count": 80,
     "metadata": {},
     "output_type": "execute_result"
    }
   ],
   "source": [
    "is_int(4.0)"
   ]
  },
  {
   "cell_type": "markdown",
   "id": "c33b0d7c",
   "metadata": {},
   "source": [
    "Self-Study: Read section 1.3.4 \"User-Defined Functions\" from the prescribed text-book and learn about    \n",
    "\n",
    "-- local variables   \n",
    "-- default value of an argument   \n",
    "-- pass-by-value   \n",
    "-- pass-by-reference   "
   ]
  }
 ],
 "metadata": {
  "kernelspec": {
   "display_name": "Python 3",
   "language": "python",
   "name": "python3"
  },
  "language_info": {
   "codemirror_mode": {
    "name": "ipython",
    "version": 3
   },
   "file_extension": ".py",
   "mimetype": "text/x-python",
   "name": "python",
   "nbconvert_exporter": "python",
   "pygments_lexer": "ipython3",
   "version": "3.9.4"
  }
 },
 "nbformat": 4,
 "nbformat_minor": 5
}
