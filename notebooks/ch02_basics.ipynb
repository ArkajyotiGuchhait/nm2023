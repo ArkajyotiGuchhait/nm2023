{
 "cells": [
  {
   "cell_type": "markdown",
   "id": "533aad28",
   "metadata": {},
   "source": [
    "# Content:\n",
    "1. [Python variables](#variables)\n",
    "2. [Data structures](#datastructures)\n",
    "3. [Control flow / Looping](#flow)\n",
    "4. [Python idioms](#idioms)\n",
    "5. [User-defined functions](#functions)"
   ]
  },
  {
   "cell_type": "markdown",
   "id": "63d953eb",
   "metadata": {},
   "source": [
    "# 1. <a name=\"variables\">Python variables</a>"
   ]
  },
  {
   "cell_type": "markdown",
   "id": "006343c8",
   "metadata": {},
   "source": [
    "In a program, we deal with data. The value of the data are stored in containers that we commonly call as variables. \n",
    "Python is a dynamically typed language where the datatype of a data is determined by the value of the data."
   ]
  },
  {
   "cell_type": "code",
   "execution_count": 81,
   "id": "4c5ad5c8",
   "metadata": {},
   "outputs": [
    {
     "name": "stdout",
     "output_type": "stream",
     "text": [
      "2 <class 'int'>\n"
     ]
    }
   ],
   "source": [
    "x = 2; print(x, type(x))"
   ]
  },
  {
   "cell_type": "code",
   "execution_count": 82,
   "id": "cb63ef48",
   "metadata": {},
   "outputs": [
    {
     "name": "stdout",
     "output_type": "stream",
     "text": [
      "2.0 <class 'float'>\n"
     ]
    }
   ],
   "source": [
    "x = 2.; print(x, type(x))"
   ]
  },
  {
   "cell_type": "code",
   "execution_count": 83,
   "id": "f85be399",
   "metadata": {},
   "outputs": [
    {
     "name": "stdout",
     "output_type": "stream",
     "text": [
      "2 <class 'str'>\n"
     ]
    }
   ],
   "source": [
    "x = '2'; print(x, type(x))"
   ]
  },
  {
   "cell_type": "markdown",
   "id": "1e135c31",
   "metadata": {},
   "source": [
    "For declaring strings, one can use single or double quotes, and be consistent throughout the program."
   ]
  },
  {
   "cell_type": "markdown",
   "id": "02913c7d",
   "metadata": {},
   "source": [
    "From the above examples, we have also seen that the datatype of a variable can even change if the variable is reassigned a different value. "
   ]
  },
  {
   "cell_type": "markdown",
   "id": "7e5c33a6",
   "metadata": {},
   "source": [
    "Python variables _cannot_ have a fixed datatype. Variables refer to a specific location in the computer memory units. When we type `a=2.0`, the location in memory where `2.0` is stored is mapped to the variable. Once we change to another variable `x='two'`, the old reference to `2.0` is deleted and a new reference to `two` is mapped to the variable `x`."
   ]
  },
  {
   "cell_type": "markdown",
   "id": "413c008f",
   "metadata": {},
   "source": [
    "It is possible to assign a value to a variable with the type specified. This is called _casting_. "
   ]
  },
  {
   "cell_type": "code",
   "execution_count": 84,
   "id": "4ba47641",
   "metadata": {},
   "outputs": [
    {
     "name": "stdout",
     "output_type": "stream",
     "text": [
      "2 <class 'int'>\n"
     ]
    }
   ],
   "source": [
    "x = int(2); print(x, type(x))"
   ]
  },
  {
   "cell_type": "markdown",
   "id": "7f9687ce",
   "metadata": {},
   "source": [
    "But this does not prevent the datatype of the variable to change upon a reassignment. "
   ]
  },
  {
   "cell_type": "code",
   "execution_count": 85,
   "id": "2e405a64",
   "metadata": {},
   "outputs": [
    {
     "name": "stdout",
     "output_type": "stream",
     "text": [
      "2.0 <class 'float'>\n"
     ]
    }
   ],
   "source": [
    "x = 2.; print(x, type(x))"
   ]
  },
  {
   "cell_type": "markdown",
   "id": "39caca2a",
   "metadata": {},
   "source": [
    "## 1.1 Variable names"
   ]
  },
  {
   "cell_type": "markdown",
   "id": "c2c961ad",
   "metadata": {},
   "source": [
    "* A variable name must start with a letter or the underscore character\n",
    "* A variable name cannot start with a number\n",
    "* A variable name can only contain alpha-numeric characters and underscores (A-z, 0-9, and _ )\n",
    "* Variable names are case-sensitive (val, Val and VAL are three different variables)"
   ]
  },
  {
   "cell_type": "code",
   "execution_count": 86,
   "id": "38ea1228",
   "metadata": {},
   "outputs": [
    {
     "name": "stdout",
     "output_type": "stream",
     "text": [
      "2.0\n"
     ]
    }
   ],
   "source": [
    "val = 2.0; print(val)"
   ]
  },
  {
   "cell_type": "code",
   "execution_count": 87,
   "id": "8f484183",
   "metadata": {},
   "outputs": [
    {
     "name": "stdout",
     "output_type": "stream",
     "text": [
      "3.0\n"
     ]
    }
   ],
   "source": [
    "Val = 3.0; print(Val)"
   ]
  },
  {
   "cell_type": "code",
   "execution_count": 88,
   "id": "7761b28b",
   "metadata": {},
   "outputs": [
    {
     "name": "stdout",
     "output_type": "stream",
     "text": [
      "4.0\n"
     ]
    }
   ],
   "source": [
    "VAL = 4.0; print(VAL)"
   ]
  },
  {
   "cell_type": "code",
   "execution_count": 89,
   "id": "8b183a18",
   "metadata": {},
   "outputs": [
    {
     "name": "stdout",
     "output_type": "stream",
     "text": [
      "2.0 3.0 4.0\n"
     ]
    }
   ],
   "source": [
    "print(val, Val, VAL)"
   ]
  },
  {
   "cell_type": "markdown",
   "id": "65350f11",
   "metadata": {},
   "source": [
    "Never use the characters `l` (lowercase letter el), `O` (uppercase letter oh), or `I` (uppercase letter eye) as single character variable names because these characters are sometimes indistinguishable from the numerals one and zero. When tempted to use `l`, use `L` instead."
   ]
  },
  {
   "cell_type": "markdown",
   "id": "19fb806e",
   "metadata": {},
   "source": [
    "## 1.2 Long variable names"
   ]
  },
  {
   "cell_type": "markdown",
   "id": "e5bfc077",
   "metadata": {},
   "source": [
    "For long variable names with more than one word, one should make the name readable by using one the following conventions"
   ]
  },
  {
   "cell_type": "markdown",
   "id": "7ba23996",
   "metadata": {},
   "source": [
    "_Camel case_, where from the second word, first letter is capitalized"
   ]
  },
  {
   "cell_type": "code",
   "execution_count": 10,
   "id": "08775282",
   "metadata": {},
   "outputs": [],
   "source": [
    "localPropertyIndex=1"
   ]
  },
  {
   "cell_type": "markdown",
   "id": "0d7e2030",
   "metadata": {},
   "source": [
    "_Pascal case_, where the first letter of each word is capitalized."
   ]
  },
  {
   "cell_type": "code",
   "execution_count": 11,
   "id": "732be949",
   "metadata": {},
   "outputs": [],
   "source": [
    "LocalPropertyIndex=1"
   ]
  },
  {
   "cell_type": "markdown",
   "id": "8bc38366",
   "metadata": {},
   "source": [
    "_Snake case_, where each word is separated by an underscore. "
   ]
  },
  {
   "cell_type": "code",
   "execution_count": 12,
   "id": "8fa43e30",
   "metadata": {},
   "outputs": [],
   "source": [
    "local_property_index=1"
   ]
  },
  {
   "cell_type": "markdown",
   "id": "6bdd9986",
   "metadata": {},
   "source": [
    "# 2. <a name=\"datastructures\">Data structures</a>"
   ]
  },
  {
   "cell_type": "markdown",
   "id": "ceef1169",
   "metadata": {},
   "source": [
    "One collect basic Python data in containers (or compound data) also called as data structures. "
   ]
  },
  {
   "cell_type": "markdown",
   "id": "4b160aad",
   "metadata": {},
   "source": [
    "## 2.1 string"
   ]
  },
  {
   "cell_type": "code",
   "execution_count": 97,
   "id": "93f34c31",
   "metadata": {},
   "outputs": [],
   "source": [
    "val='Apple'"
   ]
  },
  {
   "cell_type": "code",
   "execution_count": 98,
   "id": "69bd71e8",
   "metadata": {},
   "outputs": [
    {
     "name": "stdout",
     "output_type": "stream",
     "text": [
      "p\n"
     ]
    }
   ],
   "source": [
    "print(val[1])"
   ]
  },
  {
   "cell_type": "code",
   "execution_count": 99,
   "id": "0879923c",
   "metadata": {},
   "outputs": [
    {
     "name": "stdout",
     "output_type": "stream",
     "text": [
      "e\n"
     ]
    }
   ],
   "source": [
    "print(val[-1]) # last entry"
   ]
  },
  {
   "cell_type": "code",
   "execution_count": 100,
   "id": "c39d67c8",
   "metadata": {},
   "outputs": [
    {
     "name": "stdout",
     "output_type": "stream",
     "text": [
      "5\n"
     ]
    }
   ],
   "source": [
    "print(len(val))"
   ]
  },
  {
   "cell_type": "markdown",
   "id": "b0533e2a",
   "metadata": {},
   "source": [
    "## 2.2 set"
   ]
  },
  {
   "cell_type": "code",
   "execution_count": 17,
   "id": "b7aa8bbf",
   "metadata": {},
   "outputs": [
    {
     "name": "stdout",
     "output_type": "stream",
     "text": [
      "{1, 2, 3}\n"
     ]
    }
   ],
   "source": [
    "A={3,1,2} # A set is always ordered\n",
    "print(A) "
   ]
  },
  {
   "cell_type": "code",
   "execution_count": 101,
   "id": "eefbe623",
   "metadata": {},
   "outputs": [
    {
     "name": "stdout",
     "output_type": "stream",
     "text": [
      "{1, 2, 3} 3\n"
     ]
    }
   ],
   "source": [
    "A={3,1,2,3} # A set cannot have duplicates\n",
    "print(A,len(A)) "
   ]
  },
  {
   "cell_type": "code",
   "execution_count": 113,
   "id": "ad88579a",
   "metadata": {},
   "outputs": [
    {
     "name": "stdout",
     "output_type": "stream",
     "text": [
      "{'aa', 'a', 'b'}\n",
      "{'aa', 'a', 'b'}\n",
      "{'aa', 'a', 'b'}\n",
      "{'aa', 'a', 'b'}\n",
      "{'aa', 'a', 'b'}\n"
     ]
    }
   ],
   "source": [
    "for i in range(5):\n",
    "    A={'a','aa','b'} # A set is always ordered\n",
    "    print(A) "
   ]
  },
  {
   "cell_type": "markdown",
   "id": "f7d1580b",
   "metadata": {},
   "source": [
    "You cannot call an individual element of a set. Uncomment the following line, click run and see what happens."
   ]
  },
  {
   "cell_type": "code",
   "execution_count": 103,
   "id": "27dfbc8b",
   "metadata": {},
   "outputs": [
    {
     "ename": "TypeError",
     "evalue": "'set' object is not subscriptable",
     "output_type": "error",
     "traceback": [
      "\u001b[0;31m---------------------------------------------------------------------------\u001b[0m",
      "\u001b[0;31mTypeError\u001b[0m                                 Traceback (most recent call last)",
      "\u001b[0;32m<ipython-input-103-f2b85d2c5393>\u001b[0m in \u001b[0;36m<module>\u001b[0;34m\u001b[0m\n\u001b[0;32m----> 1\u001b[0;31m \u001b[0mprint\u001b[0m\u001b[0;34m(\u001b[0m\u001b[0mA\u001b[0m\u001b[0;34m[\u001b[0m\u001b[0;36m1\u001b[0m\u001b[0;34m]\u001b[0m\u001b[0;34m)\u001b[0m\u001b[0;34m\u001b[0m\u001b[0;34m\u001b[0m\u001b[0m\n\u001b[0m",
      "\u001b[0;31mTypeError\u001b[0m: 'set' object is not subscriptable"
     ]
    }
   ],
   "source": [
    "print(A[1])"
   ]
  },
  {
   "cell_type": "code",
   "execution_count": 104,
   "id": "4757eacd",
   "metadata": {},
   "outputs": [
    {
     "name": "stdout",
     "output_type": "stream",
     "text": [
      "2\n"
     ]
    }
   ],
   "source": [
    "print(list(A)[1])"
   ]
  },
  {
   "cell_type": "markdown",
   "id": "bd78d94a",
   "metadata": {},
   "source": [
    "## 2.3 tuple"
   ]
  },
  {
   "cell_type": "code",
   "execution_count": 21,
   "id": "d092cd0c",
   "metadata": {},
   "outputs": [
    {
     "name": "stdout",
     "output_type": "stream",
     "text": [
      "2\n"
     ]
    }
   ],
   "source": [
    "A=(1,2,3)\n",
    "print(A[1])"
   ]
  },
  {
   "cell_type": "code",
   "execution_count": 109,
   "id": "f2f8f100",
   "metadata": {},
   "outputs": [
    {
     "ename": "TypeError",
     "evalue": "'tuple' object does not support item assignment",
     "output_type": "error",
     "traceback": [
      "\u001b[0;31m---------------------------------------------------------------------------\u001b[0m",
      "\u001b[0;31mTypeError\u001b[0m                                 Traceback (most recent call last)",
      "\u001b[0;32m<ipython-input-109-964d5cd1798a>\u001b[0m in \u001b[0;36m<module>\u001b[0;34m\u001b[0m\n\u001b[1;32m      2\u001b[0m \u001b[0mme\u001b[0m\u001b[0;34m=\u001b[0m\u001b[0;36m9.11e-31\u001b[0m\u001b[0;34m\u001b[0m\u001b[0;34m\u001b[0m\u001b[0m\n\u001b[1;32m      3\u001b[0m \u001b[0mconstants\u001b[0m\u001b[0;34m=\u001b[0m\u001b[0;34m(\u001b[0m\u001b[0mme\u001b[0m\u001b[0;34m,\u001b[0m\u001b[0me\u001b[0m\u001b[0;34m)\u001b[0m\u001b[0;34m\u001b[0m\u001b[0;34m\u001b[0m\u001b[0m\n\u001b[0;32m----> 4\u001b[0;31m \u001b[0mconstants\u001b[0m\u001b[0;34m[\u001b[0m\u001b[0;36m0\u001b[0m\u001b[0;34m]\u001b[0m\u001b[0;34m=\u001b[0m\u001b[0;36m1.61e-19\u001b[0m\u001b[0;34m\u001b[0m\u001b[0;34m\u001b[0m\u001b[0m\n\u001b[0m",
      "\u001b[0;31mTypeError\u001b[0m: 'tuple' object does not support item assignment"
     ]
    }
   ],
   "source": [
    "e=1.6e-19\n",
    "me=9.11e-31\n",
    "constants=(me,e)\n",
    "constants[0]=1.61e-19"
   ]
  },
  {
   "cell_type": "markdown",
   "id": "9b4efe9e",
   "metadata": {},
   "source": [
    "A tuple is immutable, which means that you cannot change the value of an element in a tuple. Uncomment the following line, click run and see what happens."
   ]
  },
  {
   "cell_type": "code",
   "execution_count": 22,
   "id": "1210e8d2",
   "metadata": {},
   "outputs": [],
   "source": [
    "#A[1]=4\n",
    "#print(A[1])"
   ]
  },
  {
   "cell_type": "markdown",
   "id": "0222f78f",
   "metadata": {},
   "source": [
    "## 2.4 list"
   ]
  },
  {
   "cell_type": "code",
   "execution_count": 23,
   "id": "00b096de",
   "metadata": {},
   "outputs": [
    {
     "name": "stdout",
     "output_type": "stream",
     "text": [
      "2\n"
     ]
    }
   ],
   "source": [
    "A=[1,2,3]\n",
    "print(A[1])"
   ]
  },
  {
   "cell_type": "code",
   "execution_count": 24,
   "id": "f8caae4f",
   "metadata": {},
   "outputs": [
    {
     "name": "stdout",
     "output_type": "stream",
     "text": [
      "[1, 4, 3]\n"
     ]
    }
   ],
   "source": [
    "A[1]=4\n",
    "print(A)"
   ]
  },
  {
   "cell_type": "markdown",
   "id": "60a01268",
   "metadata": {},
   "source": [
    "## 2.5 dictionary"
   ]
  },
  {
   "cell_type": "code",
   "execution_count": 25,
   "id": "b91da98e",
   "metadata": {},
   "outputs": [],
   "source": [
    "swdict={               \\\n",
    "        'Luke':23,     \\\n",
    "        'Leia':23,     \\\n",
    "        'Hans Solo':36,\\\n",
    "        'Chewbacca':203\\\n",
    "       }\n",
    "\n",
    "#swdict={'Luke':23, 'Leia':23, 'Hans Solo':36,'Chewbacca':203} # dict in single-line"
   ]
  },
  {
   "cell_type": "code",
   "execution_count": 26,
   "id": "99733be6",
   "metadata": {},
   "outputs": [
    {
     "name": "stdout",
     "output_type": "stream",
     "text": [
      "{'Luke': 23, 'Leia': 23, 'Hans Solo': 36, 'Chewbacca': 203}\n"
     ]
    }
   ],
   "source": [
    "print(swdict)"
   ]
  },
  {
   "cell_type": "markdown",
   "id": "4ac96296",
   "metadata": {},
   "source": [
    "You can query (i.e. get/obtain) the value of an element (i.e. an entry) in the set py providing the corresponding key (i.e. label) as a string argument."
   ]
  },
  {
   "cell_type": "code",
   "execution_count": 27,
   "id": "76e5ec0b",
   "metadata": {},
   "outputs": [
    {
     "data": {
      "text/plain": [
       "203"
      ]
     },
     "execution_count": 27,
     "metadata": {},
     "output_type": "execute_result"
    }
   ],
   "source": [
    "swdict['Chewbacca']"
   ]
  },
  {
   "cell_type": "code",
   "execution_count": 28,
   "id": "c31d9978",
   "metadata": {},
   "outputs": [
    {
     "name": "stdout",
     "output_type": "stream",
     "text": [
      "'Chewbacca' is the key and  203  is its value\n"
     ]
    }
   ],
   "source": [
    "print('\\'Chewbacca\\' is the key and ', swdict['Chewbacca'], ' is its value')"
   ]
  },
  {
   "cell_type": "markdown",
   "id": "b23f4a95",
   "metadata": {},
   "source": [
    "Let's update the dictionary, i.e. add a new entry"
   ]
  },
  {
   "cell_type": "code",
   "execution_count": 29,
   "id": "bfb13859",
   "metadata": {},
   "outputs": [
    {
     "name": "stdout",
     "output_type": "stream",
     "text": [
      "{'Luke': 23, 'Leia': 23, 'Hans Solo': 36, 'Chewbacca': 203, 'Darth Vader': 45}\n"
     ]
    }
   ],
   "source": [
    "swdict['Darth Vader']=45 # add an entry\n",
    "print(swdict)"
   ]
  },
  {
   "cell_type": "markdown",
   "id": "237ceaf0",
   "metadata": {},
   "source": [
    "You can also remove an entry from the dictionary"
   ]
  },
  {
   "cell_type": "code",
   "execution_count": 30,
   "id": "9d0e3c44",
   "metadata": {},
   "outputs": [
    {
     "name": "stdout",
     "output_type": "stream",
     "text": [
      "{'Luke': 23, 'Hans Solo': 36, 'Chewbacca': 203, 'Darth Vader': 45}\n"
     ]
    }
   ],
   "source": [
    "del swdict['Leia'] # remove an entry\n",
    "print(swdict) "
   ]
  },
  {
   "cell_type": "markdown",
   "id": "1f25749f",
   "metadata": {},
   "source": [
    "You can delete the entire dictionary if needed"
   ]
  },
  {
   "cell_type": "code",
   "execution_count": 31,
   "id": "7310aa68",
   "metadata": {},
   "outputs": [],
   "source": [
    "del swdict \n",
    "#print(swdict)"
   ]
  },
  {
   "cell_type": "markdown",
   "id": "d34c4ea3",
   "metadata": {},
   "source": [
    "You can query on an element of `string`, `tuple`, `list` or a `dictionary` using square brackets. For the `string`, `tuple`, and `list`, one can use the index. For `dictionary`, one has to use the key as the index."
   ]
  },
  {
   "cell_type": "code",
   "execution_count": 32,
   "id": "13b362df",
   "metadata": {},
   "outputs": [
    {
     "name": "stdout",
     "output_type": "stream",
     "text": [
      "p\n"
     ]
    }
   ],
   "source": [
    "val='Apple'; print(val[1])"
   ]
  },
  {
   "cell_type": "code",
   "execution_count": 33,
   "id": "527fdbf6",
   "metadata": {},
   "outputs": [
    {
     "name": "stdout",
     "output_type": "stream",
     "text": [
      "A\n"
     ]
    }
   ],
   "source": [
    "A=(1,'A',3); print(A[1])"
   ]
  },
  {
   "cell_type": "code",
   "execution_count": 34,
   "id": "7bfa48f1",
   "metadata": {},
   "outputs": [
    {
     "name": "stdout",
     "output_type": "stream",
     "text": [
      "A 3\n"
     ]
    }
   ],
   "source": [
    "A=[1,'A',3]; print(A[1],A[2])"
   ]
  },
  {
   "cell_type": "code",
   "execution_count": 35,
   "id": "c86aa618",
   "metadata": {},
   "outputs": [
    {
     "name": "stdout",
     "output_type": "stream",
     "text": [
      "60\n"
     ]
    }
   ],
   "source": [
    "stat={'Runs':60,  'Wickets':10 }; print(stat['Runs'])"
   ]
  },
  {
   "cell_type": "markdown",
   "id": "c3d23f5b",
   "metadata": {},
   "source": [
    "### Shallow copy and deep copy"
   ]
  },
  {
   "cell_type": "code",
   "execution_count": 36,
   "id": "0fc8fbfa",
   "metadata": {},
   "outputs": [
    {
     "name": "stdout",
     "output_type": "stream",
     "text": [
      "[1, 4, 3] [1, 4, 3]\n"
     ]
    }
   ],
   "source": [
    "A=[1,2,3]\n",
    "B=A     # This is a shallow copy.\n",
    "B[1]=4  # If you reassign a value in B, it also affects A\n",
    "print(A,B)"
   ]
  },
  {
   "cell_type": "code",
   "execution_count": 37,
   "id": "bd71fa7f",
   "metadata": {},
   "outputs": [
    {
     "name": "stdout",
     "output_type": "stream",
     "text": [
      "[1, 2, 3] [1, 4, 3]\n"
     ]
    }
   ],
   "source": [
    "A=[1,2,3]\n",
    "B=A.copy()   # This is a deep copy.\n",
    "B[1]=4       # If you reassign a value in B, it does not affect A\n",
    "print(A,B)"
   ]
  },
  {
   "cell_type": "markdown",
   "id": "7416efe7",
   "metadata": {},
   "source": [
    "# 3. <a name=\"flow\">Control flow / Looping</a>"
   ]
  },
  {
   "cell_type": "markdown",
   "id": "74a217e5",
   "metadata": {},
   "source": [
    "## 3.1 if"
   ]
  },
  {
   "cell_type": "code",
   "execution_count": 38,
   "id": "1905bc79",
   "metadata": {},
   "outputs": [
    {
     "name": "stdout",
     "output_type": "stream",
     "text": [
      "b > a\n"
     ]
    }
   ],
   "source": [
    "a = 1\n",
    "b = 2\n",
    "\n",
    "if b > a:\n",
    "    print('b > a')\n",
    "elif a == b:\n",
    "    print('a and b are equal')\n",
    "else:\n",
    "    print('b < a')"
   ]
  },
  {
   "cell_type": "markdown",
   "id": "40a758c0",
   "metadata": {},
   "source": [
    "## 3.2 for"
   ]
  },
  {
   "cell_type": "code",
   "execution_count": 39,
   "id": "a33c5f04",
   "metadata": {},
   "outputs": [
    {
     "name": "stdout",
     "output_type": "stream",
     "text": [
      "A\n",
      "B\n",
      "C\n"
     ]
    }
   ],
   "source": [
    "A =['A','B','C']\n",
    "\n",
    "for i in A:\n",
    "    print(i)"
   ]
  },
  {
   "cell_type": "markdown",
   "id": "a6139734",
   "metadata": {},
   "source": [
    "## 3.3 continue/break"
   ]
  },
  {
   "cell_type": "code",
   "execution_count": 40,
   "id": "3fec33f8",
   "metadata": {},
   "outputs": [
    {
     "name": "stdout",
     "output_type": "stream",
     "text": [
      "0\n",
      "1\n",
      "2\n",
      "3\n",
      "4\n",
      "6\n",
      "7\n",
      "8\n",
      "9\n"
     ]
    }
   ],
   "source": [
    "for i in range(10):\n",
    "    if i == 5:\n",
    "        continue  # skips with i is 5\n",
    "    print(i)"
   ]
  },
  {
   "cell_type": "code",
   "execution_count": 41,
   "id": "42e7fed2",
   "metadata": {},
   "outputs": [
    {
     "name": "stdout",
     "output_type": "stream",
     "text": [
      "0\n",
      "1\n",
      "2\n",
      "3\n",
      "4\n"
     ]
    }
   ],
   "source": [
    "for i in range(10):\n",
    "    if i == 5:\n",
    "        break  # skips the entire loop when i is 5\n",
    "    print(i)"
   ]
  },
  {
   "cell_type": "markdown",
   "id": "ea8f6625",
   "metadata": {},
   "source": [
    "## 3.4 for/else"
   ]
  },
  {
   "cell_type": "markdown",
   "id": "9c2ed4d9",
   "metadata": {},
   "source": [
    "In the `for/else` structure, `else` is encountered only after the loop is finished."
   ]
  },
  {
   "cell_type": "code",
   "execution_count": 42,
   "id": "baf8ba82",
   "metadata": {},
   "outputs": [
    {
     "name": "stdout",
     "output_type": "stream",
     "text": [
      "0\n",
      "1\n",
      "2\n",
      "3\n",
      "4\n",
      "Values >= 5 not encountered\n"
     ]
    }
   ],
   "source": [
    "for i in range(5):\n",
    "    print(i)\n",
    "else:\n",
    "    print('Values >= 5 not encountered')"
   ]
  },
  {
   "cell_type": "code",
   "execution_count": null,
   "id": "6d0a978b",
   "metadata": {},
   "outputs": [],
   "source": [
    "for i in range(5):\n",
    "    print(i)\n",
    "\n",
    "print('Values >= 5 not encountered')"
   ]
  },
  {
   "cell_type": "markdown",
   "id": "d9a644c9",
   "metadata": {},
   "source": [
    "## 3.5 while"
   ]
  },
  {
   "cell_type": "code",
   "execution_count": 43,
   "id": "331c397a",
   "metadata": {},
   "outputs": [
    {
     "name": "stdout",
     "output_type": "stream",
     "text": [
      "0.9\n",
      "0.8\n",
      "0.7000000000000001\n",
      "0.6000000000000001\n",
      "0.5000000000000001\n",
      "0.40000000000000013\n",
      "0.30000000000000016\n",
      "0.20000000000000015\n",
      "0.10000000000000014\n",
      "1.3877787807814457e-16\n"
     ]
    }
   ],
   "source": [
    "dx = 1\n",
    "while dx > 1e-2:\n",
    "    dx -= 0.1\n",
    "    print(dx)"
   ]
  },
  {
   "cell_type": "markdown",
   "id": "63374471",
   "metadata": {},
   "source": [
    "# 4. <a name=\"idioms\">Python idioms</a>"
   ]
  },
  {
   "cell_type": "markdown",
   "id": "bb72b3c4",
   "metadata": {},
   "source": [
    "## 4.1 Multiple assignment"
   ]
  },
  {
   "cell_type": "markdown",
   "id": "f6232a74",
   "metadata": {},
   "source": [
    "Use"
   ]
  },
  {
   "cell_type": "code",
   "execution_count": 44,
   "id": "a53c3466",
   "metadata": {},
   "outputs": [
    {
     "name": "stdout",
     "output_type": "stream",
     "text": [
      "1 1\n"
     ]
    }
   ],
   "source": [
    "x = y = 1 \n",
    "print(x,y)"
   ]
  },
  {
   "cell_type": "markdown",
   "id": "0676586f",
   "metadata": {},
   "source": [
    "instead of "
   ]
  },
  {
   "cell_type": "code",
   "execution_count": 45,
   "id": "20b5ba87",
   "metadata": {},
   "outputs": [
    {
     "name": "stdout",
     "output_type": "stream",
     "text": [
      "1 1\n"
     ]
    }
   ],
   "source": [
    "x = 1\n",
    "y = 1\n",
    "print(x,y)"
   ]
  },
  {
   "cell_type": "markdown",
   "id": "124693a3",
   "metadata": {},
   "source": [
    "Multiple values can be assigned in a single line too."
   ]
  },
  {
   "cell_type": "code",
   "execution_count": 46,
   "id": "35f3fcd8",
   "metadata": {},
   "outputs": [
    {
     "name": "stdout",
     "output_type": "stream",
     "text": [
      "1 2\n"
     ]
    }
   ],
   "source": [
    "x, y = 1, 2\n",
    "print(x,y)"
   ]
  },
  {
   "cell_type": "markdown",
   "id": "ee764758",
   "metadata": {},
   "source": [
    "An application of the last line is how two values can be swapped in a single line."
   ]
  },
  {
   "cell_type": "code",
   "execution_count": 47,
   "id": "0dde9697",
   "metadata": {},
   "outputs": [
    {
     "name": "stdout",
     "output_type": "stream",
     "text": [
      "1 2\n",
      "2 1\n"
     ]
    }
   ],
   "source": [
    "x, y = 1, 2\n",
    "print(x,y)\n",
    "\n",
    "#swap\n",
    "x, y = y, x\n",
    "print(x,y)"
   ]
  },
  {
   "cell_type": "markdown",
   "id": "7b8325ed",
   "metadata": {},
   "source": [
    "Think about how to swap two variables in C++ or Fortran."
   ]
  },
  {
   "cell_type": "markdown",
   "id": "66390bf7",
   "metadata": {},
   "source": [
    "## 4.2 Integer/Float increment"
   ]
  },
  {
   "cell_type": "code",
   "execution_count": 48,
   "id": "99244c1d",
   "metadata": {},
   "outputs": [
    {
     "name": "stdout",
     "output_type": "stream",
     "text": [
      "1.5\n"
     ]
    }
   ],
   "source": [
    "x = 1.0\n",
    "x += 0.5 # Instead of x = x + 0.5 \n",
    "print(x)"
   ]
  },
  {
   "cell_type": "code",
   "execution_count": 49,
   "id": "a3d605b3",
   "metadata": {},
   "outputs": [
    {
     "name": "stdout",
     "output_type": "stream",
     "text": [
      "-0.5\n"
     ]
    }
   ],
   "source": [
    "x = 0.0\n",
    "x -= 0.5 # Instead of x = x - 0.5 \n",
    "print(x)"
   ]
  },
  {
   "cell_type": "code",
   "execution_count": 50,
   "id": "f925507d",
   "metadata": {},
   "outputs": [
    {
     "name": "stdout",
     "output_type": "stream",
     "text": [
      "6\n"
     ]
    }
   ],
   "source": [
    "x = 1\n",
    "x *= 2 # Instead of x = x * 2 \n",
    "x *= 3 # Instead of x = x * 3 \n",
    "print(x)"
   ]
  },
  {
   "cell_type": "code",
   "execution_count": 51,
   "id": "91e7f668",
   "metadata": {},
   "outputs": [
    {
     "name": "stdout",
     "output_type": "stream",
     "text": [
      "0.16666666666666666  is same as 1/6\n"
     ]
    }
   ],
   "source": [
    "x = 1.0\n",
    "x /= 2 # Instead of x = x / 2 \n",
    "x /= 3 # Instead of x = x / 3 \n",
    "print(x, ' is same as 1/6')"
   ]
  },
  {
   "cell_type": "markdown",
   "id": "9741a659",
   "metadata": {},
   "source": [
    "## 4.3 Chained comparison"
   ]
  },
  {
   "cell_type": "code",
   "execution_count": 52,
   "id": "b738d4cc",
   "metadata": {},
   "outputs": [],
   "source": [
    "x, y, z = 1, 2, 3"
   ]
  },
  {
   "cell_type": "code",
   "execution_count": 53,
   "id": "0301f087",
   "metadata": {},
   "outputs": [
    {
     "name": "stdout",
     "output_type": "stream",
     "text": [
      "x<y<z\n"
     ]
    }
   ],
   "source": [
    "# Suppose you want\n",
    "if x <= y and y <= z:\n",
    "    print('x<y<z')\n",
    "else:\n",
    "    print('x, y, z are not in desired order')"
   ]
  },
  {
   "cell_type": "code",
   "execution_count": 54,
   "id": "f2863e47",
   "metadata": {},
   "outputs": [
    {
     "name": "stdout",
     "output_type": "stream",
     "text": [
      "x<y<z\n"
     ]
    }
   ],
   "source": [
    "# You should use\n",
    "if x <= y <= z:\n",
    "    print('x<y<z')\n",
    "else:\n",
    "    print('x, y, z are not in desired order')"
   ]
  },
  {
   "cell_type": "markdown",
   "id": "1f497582",
   "metadata": {},
   "source": [
    "## 4.4 True/False conditions "
   ]
  },
  {
   "cell_type": "code",
   "execution_count": 55,
   "id": "fd5cd8bb",
   "metadata": {},
   "outputs": [],
   "source": [
    "x, y = 1, 2\n",
    "\n",
    "if x < y:\n",
    "    status = True"
   ]
  },
  {
   "cell_type": "code",
   "execution_count": 115,
   "id": "6116abc1",
   "metadata": {},
   "outputs": [
    {
     "name": "stdout",
     "output_type": "stream",
     "text": [
      "False\n"
     ]
    }
   ],
   "source": [
    "print(2==1)"
   ]
  },
  {
   "cell_type": "code",
   "execution_count": 56,
   "id": "9eb52834",
   "metadata": {},
   "outputs": [
    {
     "name": "stdout",
     "output_type": "stream",
     "text": [
      "Condition reached\n"
     ]
    }
   ],
   "source": [
    "# Suppose we want\n",
    "if status == True:\n",
    "    print('Condition reached')"
   ]
  },
  {
   "cell_type": "code",
   "execution_count": 57,
   "id": "11a34a8d",
   "metadata": {},
   "outputs": [
    {
     "name": "stdout",
     "output_type": "stream",
     "text": [
      "Condition reached\n"
     ]
    }
   ],
   "source": [
    "# You should use\n",
    "if status:\n",
    "    print('Condition reached')"
   ]
  },
  {
   "cell_type": "markdown",
   "id": "9234d369",
   "metadata": {},
   "source": [
    "Note that you can have 0 instead of False and any other value for True."
   ]
  },
  {
   "cell_type": "code",
   "execution_count": 58,
   "id": "67ec8f8f",
   "metadata": {},
   "outputs": [],
   "source": [
    "a = 0\n",
    "\n",
    "if a:\n",
    "    print(a)\n",
    "\n",
    "# will not print anything"
   ]
  },
  {
   "cell_type": "code",
   "execution_count": 59,
   "id": "f96eb6c7",
   "metadata": {},
   "outputs": [
    {
     "name": "stdout",
     "output_type": "stream",
     "text": [
      "-2.5\n"
     ]
    }
   ],
   "source": [
    "a = -2.5\n",
    "\n",
    "if a:\n",
    "    print(a)"
   ]
  },
  {
   "cell_type": "markdown",
   "id": "ce4fa9a1",
   "metadata": {},
   "source": [
    "## 4.5 Printing repeated characters"
   ]
  },
  {
   "cell_type": "code",
   "execution_count": 60,
   "id": "23ba4784",
   "metadata": {},
   "outputs": [
    {
     "name": "stdout",
     "output_type": "stream",
     "text": [
      "-----------\n",
      "Answer: 1.0\n",
      "-----------\n"
     ]
    }
   ],
   "source": [
    "a=1.0\n",
    "\n",
    "# Suppose we want\n",
    "print('-----------')\n",
    "print('Answer:',a)\n",
    "print('-----------')"
   ]
  },
  {
   "cell_type": "code",
   "execution_count": 61,
   "id": "124ef401",
   "metadata": {},
   "outputs": [
    {
     "name": "stdout",
     "output_type": "stream",
     "text": [
      "-----------\n",
      "Answer: 1.0\n",
      "-----------\n"
     ]
    }
   ],
   "source": [
    "# You should use\n",
    "print('{0}'.format('-'*11))\n",
    "print('Answer:',a)\n",
    "print('{0}'.format('-'*11))"
   ]
  },
  {
   "cell_type": "code",
   "execution_count": 62,
   "id": "e4da884a",
   "metadata": {},
   "outputs": [
    {
     "name": "stdout",
     "output_type": "stream",
     "text": [
      "-----------\n",
      "Answer:1.0\n",
      "-----------\n"
     ]
    }
   ],
   "source": [
    "# Or even better is to use\n",
    "print('{0}\\nAnswer:{1}\\n{0}'.format('-'*11,a))"
   ]
  },
  {
   "cell_type": "markdown",
   "id": "cdda3d4c",
   "metadata": {},
   "source": [
    "## 4.6 Assigning a list"
   ]
  },
  {
   "cell_type": "code",
   "execution_count": 63,
   "id": "de2a9f58",
   "metadata": {},
   "outputs": [
    {
     "name": "stdout",
     "output_type": "stream",
     "text": [
      "[0, 1, 2, 3, 4]\n"
     ]
    }
   ],
   "source": [
    "# Suppose you want\n",
    "indices = []\n",
    "for i in range(5):\n",
    "    indices.append(i)\n",
    "\n",
    "print(indices)"
   ]
  },
  {
   "cell_type": "code",
   "execution_count": 64,
   "id": "a9b95240",
   "metadata": {},
   "outputs": [
    {
     "name": "stdout",
     "output_type": "stream",
     "text": [
      "[0, 1, 2, 3, 4]\n"
     ]
    }
   ],
   "source": [
    "# You should use\n",
    "indices = [i for i in range(5)]\n",
    "print(indices)"
   ]
  },
  {
   "cell_type": "markdown",
   "id": "12aaee6a",
   "metadata": {},
   "source": [
    "Suppose you want to include a condition, say you want only odd numbers."
   ]
  },
  {
   "cell_type": "code",
   "execution_count": 65,
   "id": "36468e95",
   "metadata": {},
   "outputs": [
    {
     "name": "stdout",
     "output_type": "stream",
     "text": [
      "[1, 3, 5, 7, 9]\n"
     ]
    }
   ],
   "source": [
    "# Suppose you want\n",
    "indices = []\n",
    "for i in range(10):\n",
    "    if i%2 == 1:\n",
    "        indices.append(i)\n",
    "\n",
    "print(indices)"
   ]
  },
  {
   "cell_type": "code",
   "execution_count": 66,
   "id": "d30d1bfe",
   "metadata": {},
   "outputs": [
    {
     "name": "stdout",
     "output_type": "stream",
     "text": [
      "[1, 3, 5, 7, 9]\n"
     ]
    }
   ],
   "source": [
    "# You should use\n",
    "indices = [i for i in range(10) if i%2 == 1]\n",
    "print(indices)"
   ]
  },
  {
   "cell_type": "code",
   "execution_count": 67,
   "id": "926311b3",
   "metadata": {},
   "outputs": [
    {
     "name": "stdout",
     "output_type": "stream",
     "text": [
      "[1, 3, 5, 7, 9]\n"
     ]
    }
   ],
   "source": [
    "# You can use the concept that 0 can be used for False\n",
    "indices = [i for i in range(10) if (i%2)]\n",
    "print(indices)"
   ]
  },
  {
   "cell_type": "code",
   "execution_count": 68,
   "id": "ceaaa58b",
   "metadata": {},
   "outputs": [
    {
     "name": "stdout",
     "output_type": "stream",
     "text": [
      "[0, 2, 4, 6, 8]\n"
     ]
    }
   ],
   "source": [
    "indices = [i for i in range(10) if not(i%2)]\n",
    "print(indices)"
   ]
  },
  {
   "cell_type": "markdown",
   "id": "76f83741",
   "metadata": {},
   "source": [
    "## 4.7 Set properties"
   ]
  },
  {
   "cell_type": "code",
   "execution_count": 69,
   "id": "deca10da",
   "metadata": {},
   "outputs": [
    {
     "name": "stdout",
     "output_type": "stream",
     "text": [
      "[0, 1, 2, 3, 4, 5] [0, 1, 2, 3, 4, 5, 6, 7, 8, 9, 10]\n"
     ]
    }
   ],
   "source": [
    "A = [i for i in range(6)]\n",
    "B = [i for i in range(11)]\n",
    "print(A,B)"
   ]
  },
  {
   "cell_type": "code",
   "execution_count": 70,
   "id": "74b4a6be",
   "metadata": {},
   "outputs": [
    {
     "name": "stdout",
     "output_type": "stream",
     "text": [
      "{0, 1, 2, 3, 4, 5} {0, 1, 2, 3, 4, 5, 6, 7, 8, 9, 10}\n"
     ]
    }
   ],
   "source": [
    "A, B = set(A), set(B)\n",
    "print(A,B)"
   ]
  },
  {
   "cell_type": "code",
   "execution_count": 71,
   "id": "517111d3",
   "metadata": {},
   "outputs": [
    {
     "name": "stdout",
     "output_type": "stream",
     "text": [
      "{0, 1, 2, 3, 4, 5, 6, 7, 8, 9, 10}\n",
      "[0, 1, 2, 3, 4, 5, 6, 7, 8, 9, 10]\n"
     ]
    }
   ],
   "source": [
    "# Union\n",
    "print( A | B )\n",
    "print( list(A | B) )"
   ]
  },
  {
   "cell_type": "code",
   "execution_count": 72,
   "id": "03fc34b4",
   "metadata": {},
   "outputs": [
    {
     "name": "stdout",
     "output_type": "stream",
     "text": [
      "[0, 1, 2, 3, 4, 5]\n"
     ]
    }
   ],
   "source": [
    "# Intersection\n",
    "print( list( A & B ) )"
   ]
  },
  {
   "cell_type": "code",
   "execution_count": 73,
   "id": "7e29e4c6",
   "metadata": {},
   "outputs": [
    {
     "name": "stdout",
     "output_type": "stream",
     "text": [
      "[6, 7, 8, 9, 10]\n"
     ]
    }
   ],
   "source": [
    "# Union - Intersection \n",
    "# Symmetric difference. Either in A or B, but not common\n",
    "print( list( A ^ B ) )"
   ]
  },
  {
   "cell_type": "code",
   "execution_count": 74,
   "id": "946f7cd7",
   "metadata": {},
   "outputs": [
    {
     "name": "stdout",
     "output_type": "stream",
     "text": [
      "[]\n"
     ]
    }
   ],
   "source": [
    "# In A not in B\n",
    "print( list( A - B ) )"
   ]
  },
  {
   "cell_type": "code",
   "execution_count": 75,
   "id": "a977ef54",
   "metadata": {},
   "outputs": [
    {
     "name": "stdout",
     "output_type": "stream",
     "text": [
      "[6, 7, 8, 9, 10]\n"
     ]
    }
   ],
   "source": [
    "# In B not in A\n",
    "print( list( B - A ) )"
   ]
  },
  {
   "cell_type": "markdown",
   "id": "99f5476f",
   "metadata": {},
   "source": [
    "# 5. <a name=\"functions\">User-defined functions</a>"
   ]
  },
  {
   "cell_type": "markdown",
   "id": "b55557c7",
   "metadata": {},
   "source": [
    "If part of your code performing a task is repeated multiple times, it is best to define that part of the code as a function. Here is how you can make your own function. This function will determine if an input data is an integer or not. The output will be 'true' if the data is an integer and 'false' is the data is not an integer."
   ]
  },
  {
   "cell_type": "code",
   "execution_count": 76,
   "id": "389e3348",
   "metadata": {},
   "outputs": [],
   "source": [
    "def is_int(x):\n",
    "    '''\n",
    "    Takes an object as input and returns a boolean data as output.\n",
    "    Later, I have to add more information here\n",
    "    \n",
    "    Example case 1: \n",
    "    ---------------\n",
    "       use it to check whether a number is an integer\n",
    "       is_int(5)\n",
    "    '''\n",
    "    out=False       # Assign False at the beginning \n",
    "    \n",
    "    data_1=type(x)\n",
    "    data_2=type(1)\n",
    "    \n",
    "    out = data_1 == data_2\n",
    "    #if data_1 == data_2:\n",
    "    #    out=True\n",
    "    \n",
    "    return(out)"
   ]
  },
  {
   "cell_type": "code",
   "execution_count": 77,
   "id": "bceb58c4",
   "metadata": {},
   "outputs": [
    {
     "name": "stdout",
     "output_type": "stream",
     "text": [
      "Help on function is_int in module __main__:\n",
      "\n",
      "is_int(x)\n",
      "    Takes an object as input and returns a boolean data as output.\n",
      "    Later, I have to add more information here\n",
      "    \n",
      "    Example case 1: \n",
      "    ---------------\n",
      "       use it to check whether a number is an integer\n",
      "       is_int(5)\n",
      "\n"
     ]
    }
   ],
   "source": [
    "help(is_int)"
   ]
  },
  {
   "cell_type": "code",
   "execution_count": 78,
   "id": "be2408d1",
   "metadata": {},
   "outputs": [
    {
     "name": "stdout",
     "output_type": "stream",
     "text": [
      "\n",
      "    Takes an object as input and returns a boolean data as output.\n",
      "    Later, I have to add more information here\n",
      "    \n",
      "    Example case 1: \n",
      "    ---------------\n",
      "       use it to check whether a number is an integer\n",
      "       is_int(5)\n",
      "    \n"
     ]
    }
   ],
   "source": [
    "print(is_int.__doc__)"
   ]
  },
  {
   "cell_type": "code",
   "execution_count": 79,
   "id": "76c35f2e",
   "metadata": {},
   "outputs": [
    {
     "data": {
      "text/plain": [
       "True"
      ]
     },
     "execution_count": 79,
     "metadata": {},
     "output_type": "execute_result"
    }
   ],
   "source": [
    "is_int(4)"
   ]
  },
  {
   "cell_type": "code",
   "execution_count": 80,
   "id": "36c0d3c3",
   "metadata": {},
   "outputs": [
    {
     "data": {
      "text/plain": [
       "False"
      ]
     },
     "execution_count": 80,
     "metadata": {},
     "output_type": "execute_result"
    }
   ],
   "source": [
    "is_int(4.0)"
   ]
  },
  {
   "cell_type": "markdown",
   "id": "25e00579",
   "metadata": {},
   "source": [
    "Self-Study: Read section 1.3.4 \"User-Defined Functions\" from the prescribed text-book and learn about    \n",
    "\n",
    "-- local variables   \n",
    "-- default value of an argument   \n",
    "-- pass-by-value   \n",
    "-- pass-by-reference   "
   ]
  }
 ],
 "metadata": {
  "kernelspec": {
   "display_name": "Python 3",
   "language": "python",
   "name": "python3"
  },
  "language_info": {
   "codemirror_mode": {
    "name": "ipython",
    "version": 3
   },
   "file_extension": ".py",
   "mimetype": "text/x-python",
   "name": "python",
   "nbconvert_exporter": "python",
   "pygments_lexer": "ipython3",
   "version": "3.9.4"
  }
 },
 "nbformat": 4,
 "nbformat_minor": 5
}
