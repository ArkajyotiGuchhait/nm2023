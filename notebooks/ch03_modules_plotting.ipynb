{
 "cells": [
  {
   "cell_type": "markdown",
   "id": "8e9364a7",
   "metadata": {},
   "source": [
    "# Content:\n",
    "1. [Modules](#modules)\n",
    "2. [Plotting](#plotting)"
   ]
  },
  {
   "cell_type": "markdown",
   "id": "92df734c",
   "metadata": {},
   "source": [
    "# 1. <a name=\"modules\">Modules</a>"
   ]
  },
  {
   "cell_type": "markdown",
   "id": "f13b41ec",
   "metadata": {},
   "source": [
    "One of the great advantages of using Python is the availability of a number of packages and modules that can be imported in our codes."
   ]
  },
  {
   "cell_type": "markdown",
   "id": "de3f41d2",
   "metadata": {},
   "source": [
    "## 1.1 math"
   ]
  },
  {
   "cell_type": "code",
   "execution_count": 1,
   "id": "de4f5672",
   "metadata": {},
   "outputs": [],
   "source": [
    "import math"
   ]
  },
  {
   "cell_type": "markdown",
   "id": "742b7849",
   "metadata": {},
   "source": [
    "`dir()` returns all properties and methods of a Python object such as a function or a module."
   ]
  },
  {
   "cell_type": "code",
   "execution_count": 2,
   "id": "20f5cb94",
   "metadata": {},
   "outputs": [],
   "source": [
    "# dir(math)      # uncomment, run and see"
   ]
  },
  {
   "cell_type": "code",
   "execution_count": 3,
   "id": "5926ea89",
   "metadata": {},
   "outputs": [
    {
     "name": "stdout",
     "output_type": "stream",
     "text": [
      "78.53981633974483\n"
     ]
    }
   ],
   "source": [
    "rad=5\n",
    "Area=math.pi*rad**2\n",
    "print(Area)"
   ]
  },
  {
   "cell_type": "code",
   "execution_count": 4,
   "id": "dbe94dfe",
   "metadata": {},
   "outputs": [
    {
     "name": "stdout",
     "output_type": "stream",
     "text": [
      "Help on built-in function erf in module math:\n",
      "\n",
      "erf(x, /)\n",
      "    Error function at x.\n",
      "\n"
     ]
    }
   ],
   "source": [
    "help(math.erf)"
   ]
  },
  {
   "cell_type": "code",
   "execution_count": 5,
   "id": "3d016456",
   "metadata": {},
   "outputs": [
    {
     "data": {
      "text/plain": [
       "'\\n    This function returns the square of x\\n    '"
      ]
     },
     "execution_count": 5,
     "metadata": {},
     "output_type": "execute_result"
    }
   ],
   "source": [
    "def fn(x,arg=3.0):\n",
    "    '''\n",
    "    This function returns the square of x\n",
    "    '''\n",
    "    return x**2 * arg\n",
    "\n",
    "fn.__doc__"
   ]
  },
  {
   "cell_type": "code",
   "execution_count": 6,
   "id": "22de7fb2",
   "metadata": {},
   "outputs": [
    {
     "data": {
      "text/plain": [
       "3.0"
      ]
     },
     "execution_count": 6,
     "metadata": {},
     "output_type": "execute_result"
    }
   ],
   "source": [
    "fn(1)"
   ]
  },
  {
   "cell_type": "code",
   "execution_count": 7,
   "id": "ca306ac4",
   "metadata": {},
   "outputs": [
    {
     "data": {
      "text/plain": [
       "1"
      ]
     },
     "execution_count": 7,
     "metadata": {},
     "output_type": "execute_result"
    }
   ],
   "source": [
    "fn(1,1)"
   ]
  },
  {
   "cell_type": "code",
   "execution_count": 8,
   "id": "ce5a1824",
   "metadata": {},
   "outputs": [
    {
     "name": "stdout",
     "output_type": "stream",
     "text": [
      "Error function at x.\n"
     ]
    }
   ],
   "source": [
    "print(math.erf.__doc__)"
   ]
  },
  {
   "cell_type": "code",
   "execution_count": 9,
   "id": "cabaac54",
   "metadata": {},
   "outputs": [
    {
     "data": {
      "text/plain": [
       "1.4142135623730951"
      ]
     },
     "execution_count": 9,
     "metadata": {},
     "output_type": "execute_result"
    }
   ],
   "source": [
    "from math import sqrt\n",
    "sqrt(2)"
   ]
  },
  {
   "cell_type": "markdown",
   "id": "ddb4f7bc",
   "metadata": {},
   "source": [
    "## 1.2 cmath"
   ]
  },
  {
   "cell_type": "code",
   "execution_count": 10,
   "id": "231379d3",
   "metadata": {},
   "outputs": [],
   "source": [
    "import cmath\n",
    "# dir(cmath)   # uncomment and see"
   ]
  },
  {
   "cell_type": "code",
   "execution_count": 11,
   "id": "27d031eb",
   "metadata": {},
   "outputs": [
    {
     "data": {
      "text/plain": [
       "(1+0j)"
      ]
     },
     "execution_count": 11,
     "metadata": {},
     "output_type": "execute_result"
    }
   ],
   "source": [
    "cmath.sin(math.pi/2)\n",
    "(1+0j)"
   ]
  },
  {
   "cell_type": "markdown",
   "id": "b4a24035",
   "metadata": {},
   "source": [
    "## 1.3 os"
   ]
  },
  {
   "cell_type": "code",
   "execution_count": 12,
   "id": "1f4aa96e",
   "metadata": {},
   "outputs": [],
   "source": [
    "import os\n",
    "#dir(os)"
   ]
  },
  {
   "cell_type": "code",
   "execution_count": 13,
   "id": "c40ae006",
   "metadata": {},
   "outputs": [
    {
     "data": {
      "text/plain": [
       "'/Users/raghurama/repos/nm2023/notebooks'"
      ]
     },
     "execution_count": 13,
     "metadata": {},
     "output_type": "execute_result"
    }
   ],
   "source": [
    "os.getcwd()"
   ]
  },
  {
   "cell_type": "code",
   "execution_count": 14,
   "id": "f3f31508",
   "metadata": {},
   "outputs": [
    {
     "data": {
      "text/plain": [
       "'/Users/raghurama/repos/nm2023'"
      ]
     },
     "execution_count": 14,
     "metadata": {},
     "output_type": "execute_result"
    }
   ],
   "source": [
    "os.chdir('../')\n",
    "os.getcwd()"
   ]
  },
  {
   "cell_type": "code",
   "execution_count": 15,
   "id": "e5eb9d58",
   "metadata": {},
   "outputs": [
    {
     "data": {
      "text/plain": [
       "'/Users/raghurama/repos/nm2023/notebooks'"
      ]
     },
     "execution_count": 15,
     "metadata": {},
     "output_type": "execute_result"
    }
   ],
   "source": [
    "os.chdir('notebooks')\n",
    "os.getcwd()"
   ]
  },
  {
   "cell_type": "markdown",
   "id": "5ea09d0b",
   "metadata": {},
   "source": [
    "## 1.4 numpy"
   ]
  },
  {
   "cell_type": "markdown",
   "id": "39b109f6",
   "metadata": {},
   "source": [
    "One of the most useful modules for this course is numpy. As a first application, we will use numpy to create 'arrays'."
   ]
  },
  {
   "cell_type": "code",
   "execution_count": 16,
   "id": "75271847",
   "metadata": {},
   "outputs": [],
   "source": [
    "import numpy\n",
    "#dir(numpy)   # uncomment and see"
   ]
  },
  {
   "cell_type": "code",
   "execution_count": 17,
   "id": "feb8849d",
   "metadata": {},
   "outputs": [
    {
     "name": "stdout",
     "output_type": "stream",
     "text": [
      "1.4142135623730951\n"
     ]
    }
   ],
   "source": [
    "print(numpy.sqrt(2))"
   ]
  },
  {
   "cell_type": "code",
   "execution_count": 18,
   "id": "e9ff0ca5",
   "metadata": {},
   "outputs": [],
   "source": [
    "#help(numpy.sqrt)"
   ]
  },
  {
   "cell_type": "markdown",
   "id": "a8efc3b7",
   "metadata": {},
   "source": [
    "### 1D array"
   ]
  },
  {
   "cell_type": "code",
   "execution_count": 19,
   "id": "5bcf5295",
   "metadata": {},
   "outputs": [
    {
     "name": "stdout",
     "output_type": "stream",
     "text": [
      "[1. 2.]\n",
      "<class 'numpy.ndarray'>\n"
     ]
    }
   ],
   "source": [
    "import numpy as np\n",
    "a=np.array( [1.0,2.0] )   # Note that [1.0,2.0] is a list\n",
    "print(a)\n",
    "print(type(a))"
   ]
  },
  {
   "cell_type": "code",
   "execution_count": 20,
   "id": "be0ddb5a",
   "metadata": {},
   "outputs": [
    {
     "name": "stdout",
     "output_type": "stream",
     "text": [
      "[1 2]\n",
      "[1. 2.]\n",
      "[1.+0.j 2.+0.j]\n"
     ]
    }
   ],
   "source": [
    "a1=np.array(a,int)\n",
    "print(a1)\n",
    "a2=np.array(a,float)\n",
    "print(a2)\n",
    "a3=np.array(a,complex)\n",
    "print(a3)"
   ]
  },
  {
   "cell_type": "markdown",
   "id": "642e5684",
   "metadata": {},
   "source": [
    "### 2D array"
   ]
  },
  {
   "cell_type": "code",
   "execution_count": 21,
   "id": "6a3a78a8",
   "metadata": {},
   "outputs": [
    {
     "name": "stdout",
     "output_type": "stream",
     "text": [
      "[[1 2 3]\n",
      " [3 4 5]]\n"
     ]
    }
   ],
   "source": [
    "A=np.array(  [ [1,2,3], [3,4,5] ]   )  # input is list of lists\n",
    "print(A)"
   ]
  },
  {
   "cell_type": "code",
   "execution_count": 22,
   "id": "22e26833",
   "metadata": {},
   "outputs": [
    {
     "data": {
      "text/plain": [
       "2"
      ]
     },
     "execution_count": 22,
     "metadata": {},
     "output_type": "execute_result"
    }
   ],
   "source": [
    "A[0,1]"
   ]
  },
  {
   "cell_type": "markdown",
   "id": "e2016cdf",
   "metadata": {},
   "source": [
    "### dot, inner, outer products"
   ]
  },
  {
   "cell_type": "markdown",
   "id": "1490f274",
   "metadata": {},
   "source": [
    "![boardwork001.jpg](../boardwork/boardwork001.jpg)\n",
    "![boardwork002.jpg](../boardwork/boardwork002.jpg)"
   ]
  },
  {
   "cell_type": "code",
   "execution_count": 23,
   "id": "8c84cc7d",
   "metadata": {},
   "outputs": [],
   "source": [
    "A=np.array([[1,2],[3,2]])\n",
    "B=np.array([[1,1],[2,2]])\n",
    "x=np.array([7,3])\n",
    "y=np.array([2,1])"
   ]
  },
  {
   "cell_type": "code",
   "execution_count": 24,
   "id": "d12d876f",
   "metadata": {},
   "outputs": [
    {
     "name": "stdout",
     "output_type": "stream",
     "text": [
      "[[5 5]\n",
      " [7 7]]\n"
     ]
    }
   ],
   "source": [
    "print(np.dot(A,B))"
   ]
  },
  {
   "cell_type": "code",
   "execution_count": 25,
   "id": "0dc45578",
   "metadata": {},
   "outputs": [
    {
     "name": "stdout",
     "output_type": "stream",
     "text": [
      "[13 27]\n"
     ]
    }
   ],
   "source": [
    "print(np.dot(A,x))"
   ]
  },
  {
   "cell_type": "code",
   "execution_count": 26,
   "id": "02e4b1aa",
   "metadata": {},
   "outputs": [
    {
     "name": "stdout",
     "output_type": "stream",
     "text": [
      "17\n"
     ]
    }
   ],
   "source": [
    "print(np.dot(x,y))"
   ]
  },
  {
   "cell_type": "code",
   "execution_count": 27,
   "id": "91698094",
   "metadata": {},
   "outputs": [
    {
     "name": "stdout",
     "output_type": "stream",
     "text": [
      "[[ 3  6]\n",
      " [ 5 10]]\n"
     ]
    }
   ],
   "source": [
    "print(np.inner(A,B))"
   ]
  },
  {
   "cell_type": "code",
   "execution_count": 28,
   "id": "0459dc33",
   "metadata": {},
   "outputs": [
    {
     "name": "stdout",
     "output_type": "stream",
     "text": [
      "[13 27]\n"
     ]
    }
   ],
   "source": [
    "print(np.inner(A,x))"
   ]
  },
  {
   "cell_type": "code",
   "execution_count": 29,
   "id": "36b31fd0",
   "metadata": {},
   "outputs": [
    {
     "name": "stdout",
     "output_type": "stream",
     "text": [
      "17\n"
     ]
    }
   ],
   "source": [
    "print(np.inner(x,y))"
   ]
  },
  {
   "cell_type": "code",
   "execution_count": 30,
   "id": "77cb07b7",
   "metadata": {},
   "outputs": [
    {
     "name": "stdout",
     "output_type": "stream",
     "text": [
      "[[1 1 2 2]\n",
      " [2 2 4 4]\n",
      " [3 3 6 6]\n",
      " [2 2 4 4]]\n"
     ]
    }
   ],
   "source": [
    "print(np.outer(A,B))"
   ]
  },
  {
   "cell_type": "code",
   "execution_count": 31,
   "id": "4e5b02d1",
   "metadata": {},
   "outputs": [
    {
     "name": "stdout",
     "output_type": "stream",
     "text": [
      "[[ 7  3]\n",
      " [14  6]\n",
      " [21  9]\n",
      " [14  6]]\n"
     ]
    }
   ],
   "source": [
    "print(np.outer(A,x))"
   ]
  },
  {
   "cell_type": "code",
   "execution_count": 32,
   "id": "adebcbfe",
   "metadata": {},
   "outputs": [
    {
     "name": "stdout",
     "output_type": "stream",
     "text": [
      "[[14  7]\n",
      " [ 6  3]]\n"
     ]
    }
   ],
   "source": [
    "print(np.outer(x,y))"
   ]
  },
  {
   "cell_type": "markdown",
   "id": "bba7da57",
   "metadata": {},
   "source": [
    "# 2. <a name=\"plotting\">Plotting</a>"
   ]
  },
  {
   "cell_type": "markdown",
   "id": "8bbe6133",
   "metadata": {},
   "source": [
    "## 2.1 Simple plotting"
   ]
  },
  {
   "cell_type": "code",
   "execution_count": 33,
   "id": "b39c29f7",
   "metadata": {},
   "outputs": [
    {
     "data": {
      "image/png": "[encoded data removed]",
      "text/plain": [
       "<Figure size 432x288 with 1 Axes>"
      ]
     },
     "metadata": {
      "needs_background": "light"
     },
     "output_type": "display_data"
    }
   ],
   "source": [
    "import numpy as np\n",
    "import matplotlib.pyplot as plt\n",
    "\n",
    "#=== x-range\n",
    "xmin=-10\n",
    "xmax=10\n",
    "xgrids=51\n",
    "\n",
    "#Make grids along x, discretize x\n",
    "x=np.linspace(xmin, xmax, xgrids)\n",
    "\n",
    "#print(x.shape[0])\n",
    "\n",
    "#=== variables to plot\n",
    "y=x**2   # here x is a vector (or numpy array)\n",
    "\n",
    "#=== plot\n",
    "plt.plot(x,y)\n",
    "plt.title('Parabola')\n",
    "plt.show()"
   ]
  },
  {
   "cell_type": "markdown",
   "id": "8087b255",
   "metadata": {},
   "source": [
    "You can change the default style such as line color, line width, etc. Bookmark [Matplotlib documentation](https://matplotlib.org/2.1.1/api/_as_gen/matplotlib.pyplot.plot.html) and refer this page for more details."
   ]
  },
  {
   "cell_type": "code",
   "execution_count": 34,
   "id": "d5205090",
   "metadata": {},
   "outputs": [
    {
     "data": {
      "image/png": "[encoded data removed]",
      "text/plain": [
       "<Figure size 432x288 with 1 Axes>"
      ]
     },
     "metadata": {
      "needs_background": "light"
     },
     "output_type": "display_data"
    }
   ],
   "source": [
    "#=== plot\n",
    "plt.plot(x,y,linestyle='dashed',color='red',linewidth=2)\n",
    "plt.title('Parabola')\n",
    "plt.show()"
   ]
  },
  {
   "cell_type": "markdown",
   "id": "5b0fff25",
   "metadata": {},
   "source": [
    "## 2.2 Parametric equations"
   ]
  },
  {
   "cell_type": "markdown",
   "id": "5e757e4f",
   "metadata": {},
   "source": [
    "[Lissajous curves](https://en.wikipedia.org/wiki/Lissajous_curve) are defined by the parametric equations \n",
    "\n",
    "$$\n",
    "\\begin{align}\n",
    "x & = A\\sin(at+\\pi/2)\\\\ \n",
    "y & =  B\\sin(bt)\n",
    "\\end{align}\n",
    "$$"
   ]
  },
  {
   "cell_type": "code",
   "execution_count": 35,
   "id": "3b0c8f3d",
   "metadata": {},
   "outputs": [
    {
     "data": {
      "image/png": "[encoded data removed]",
      "text/plain": [
       "<Figure size 432x288 with 1 Axes>"
      ]
     },
     "metadata": {
      "needs_background": "light"
     },
     "output_type": "display_data"
    }
   ],
   "source": [
    "import numpy as np\n",
    "import matplotlib.pyplot as plt\n",
    "\n",
    "#=== time grids\n",
    "t_min=-np.pi\n",
    "t_max=np.pi\n",
    "t_grids=501\n",
    "t=np.linspace(t_min, t_max, t_grids)\n",
    "\n",
    "# PLOT -1\n",
    "#=== Constants\n",
    "A=1\n",
    "B=1\n",
    "a=10\n",
    "b=12\n",
    "\n",
    "#=== variables to plot\n",
    "x=A*np.sin(a*t+np.pi/2)\n",
    "y=B*np.sin(b*t)\n",
    "\n",
    "#=== plot\n",
    "plt.plot(x,y,color='orange')\n",
    "\n",
    "\n",
    "\n",
    "# PLOT-2\n",
    "#=== Constants\n",
    "A=1\n",
    "B=1\n",
    "a=1\n",
    "b=10\n",
    "\n",
    "#=== variables to plot\n",
    "x=A*np.sin(a*t+np.pi/2)\n",
    "y=B*np.sin(b*t)\n",
    "\n",
    "#=== plot\n",
    "plt.plot(x,y,color='green')\n",
    "\n",
    "\n",
    "\n",
    "\n",
    "plt.title('Lissajous curves')\n",
    "plt.grid()\n",
    "plt.show()\n",
    "\n",
    "#=== To see the current working directory, uncomment the following 2 lines\n",
    "#import os\n",
    "#os.getcwd() "
   ]
  },
  {
   "cell_type": "markdown",
   "id": "721698f3",
   "metadata": {},
   "source": [
    "## 2.3 Polishing the plot"
   ]
  },
  {
   "cell_type": "code",
   "execution_count": 36,
   "id": "f6e2b60e",
   "metadata": {},
   "outputs": [
    {
     "data": {
      "image/png": "[encoded data removed]",
      "text/plain": [
       "<Figure size 432x288 with 1 Axes>"
      ]
     },
     "metadata": {
      "needs_background": "light"
     },
     "output_type": "display_data"
    }
   ],
   "source": [
    "import numpy as np\n",
    "import matplotlib.pyplot as plt\n",
    "\n",
    "#=== t-range\n",
    "t_min=-np.pi\n",
    "t_max=np.pi\n",
    "t_grids=501\n",
    "t=np.linspace(t_min, t_max, t_grids)\n",
    "\n",
    "#=== Constants\n",
    "A=1\n",
    "B=1\n",
    "a=3\n",
    "b=9\n",
    "\n",
    "#=== variables to plot\n",
    "x=A*np.sin(a*t+np.pi/2)\n",
    "y=B*np.sin(b*t)\n",
    "\n",
    "#=== make it a square plot\n",
    "fig = plt.figure()                        # comment if square plot is not needed\n",
    "ax = fig.add_subplot(111)                 # comment if square plot is not needed\n",
    "plt.plot(x,y)\n",
    "ax.set_aspect('equal', adjustable='box')  # comment if square plot is not needed\n",
    "\n",
    "#=== labels, titles, grids\n",
    "plt.xlabel(\"x\")\n",
    "plt.ylabel(\"y\")\n",
    "plt.title('Lissajous curves')\n",
    "plt.grid()\n",
    "\n",
    "#=== save in file, you can also use .pdf or .svg\n",
    "plt.savefig('Lissajous.png')  \n",
    "\n",
    "#=== display\n",
    "plt.show()"
   ]
  },
  {
   "cell_type": "markdown",
   "id": "6c50b55a",
   "metadata": {},
   "source": [
    "## 2.4 Contour plot "
   ]
  },
  {
   "cell_type": "code",
   "execution_count": 37,
   "id": "a572a07b",
   "metadata": {},
   "outputs": [
    {
     "data": {
      "image/png": "[encoded data removed]",
      "text/plain": [
       "<Figure size 432x288 with 2 Axes>"
      ]
     },
     "metadata": {
      "needs_background": "light"
     },
     "output_type": "display_data"
    }
   ],
   "source": [
    "import numpy as np\n",
    "import matplotlib as mpl\n",
    "import matplotlib.pyplot as plt\n",
    "\n",
    "#=== Define a 2D function\n",
    "def f(x,y):\n",
    "    z=(x**2+y**2)\n",
    "    #z=(1-x**2+y**2)\n",
    "    return z\n",
    "\n",
    "x=np.arange(-2.0,2.0,0.1)\n",
    "y=np.arange(-2.0,2.0,0.1)\n",
    "\n",
    "X,Y=np.meshgrid(x,y)\n",
    "\n",
    "Z=f(X,Y)\n",
    "\n",
    "N_iso=np.arange(-2,2.5,0.5)\n",
    "\n",
    "\n",
    "#fig = plt.figure()                        # comment if square plot is not needed\n",
    "#ax = fig.add_subplot(111)                 # comment if square plot is not needed\n",
    "  \n",
    "CS=plt.contour(Z,N_iso,linewidths=2,cmap=mpl.cm.coolwarm)\n",
    "\n",
    "\n",
    "#ax.set_aspect('equal', adjustable='box')  # comment if square plot is not needed\n",
    "\n",
    "plt.clabel(CS, inline=True, fmt='%1.2f', fontsize=10)\n",
    "plt.colorbar(CS)\n",
    "\n",
    "plt.title('A contour plot')\n",
    "plt.show()"
   ]
  },
  {
   "cell_type": "markdown",
   "id": "08cdacc7",
   "metadata": {},
   "source": [
    "## 2.5 Beginner-level animation"
   ]
  },
  {
   "cell_type": "code",
   "execution_count": 38,
   "id": "10671d2b",
   "metadata": {},
   "outputs": [],
   "source": [
    "import os\n",
    "import numpy as np\n",
    "import matplotlib.pyplot as plt\n",
    "import imageio"
   ]
  },
  {
   "cell_type": "code",
   "execution_count": 39,
   "id": "d56c6303",
   "metadata": {},
   "outputs": [
    {
     "data": {
      "image/png": "[encoded data removed]",
      "text/plain": [
       "<Figure size 432x288 with 1 Axes>"
      ]
     },
     "metadata": {
      "needs_background": "light"
     },
     "output_type": "display_data"
    },
    {
     "data": {
      "image/png": "[encoded data removed]",
      "text/plain": [
       "<Figure size 432x288 with 1 Axes>"
      ]
     },
     "metadata": {
      "needs_background": "light"
     },
     "output_type": "display_data"
    },
    {
     "data": {
      "image/png": "[encoded data removed]",
      "text/plain": [
       "<Figure size 432x288 with 1 Axes>"
      ]
     },
     "metadata": {
      "needs_background": "light"
     },
     "output_type": "display_data"
    },
    {
     "data": {
      "image/png": "[encoded data removed]",
      "text/plain": [
       "<Figure size 432x288 with 1 Axes>"
      ]
     },
     "metadata": {
      "needs_background": "light"
     },
     "output_type": "display_data"
    }
   ],
   "source": [
    "x_min=-10\n",
    "x_max=10\n",
    "x_grids=501\n",
    "x=np.linspace(x_min, x_max, x_grids)## ONE ##\n",
    "\n",
    "def gauss(x,x0):\n",
    "    f=np.exp(-(x-x0)**2)\n",
    "    return f\n",
    "\n",
    "#=== plot-1\n",
    "x0=0\n",
    "y=gauss(x,x0)\n",
    "plt.plot(x,y)\n",
    "plt.title('Moving Gaussian')\n",
    "plt.savefig('_tmp_1.png')\n",
    "plt.show()\n",
    "#=== plot-2\n",
    "x0=1\n",
    "y=gauss(x,x0)\n",
    "plt.plot(x,y)\n",
    "plt.title('Moving Gaussian')\n",
    "plt.savefig('_tmp_2.png')\n",
    "plt.show()\n",
    "#=== plot-3\n",
    "x0=2\n",
    "y=gauss(x,x0)\n",
    "plt.plot(x,y)\n",
    "plt.title('Moving Gaussian')\n",
    "plt.savefig('_tmp_3.png')\n",
    "plt.show()\n",
    "#=== plot-4\n",
    "x0=3\n",
    "y=gauss(x,x0)\n",
    "plt.plot(x,y)\n",
    "plt.title('Moving Gaussian')\n",
    "plt.savefig('_tmp_4.png')\n",
    "plt.show()"
   ]
  },
  {
   "cell_type": "code",
   "execution_count": 40,
   "id": "65965761",
   "metadata": {},
   "outputs": [],
   "source": [
    "# Build GIF\n",
    "with imageio.get_writer('mygif1.gif', mode='I') as writer:\n",
    "    for filename in ['_tmp_1.png', '_tmp_2.png', '_tmp_3.png', '_tmp_4.png']:\n",
    "        image = imageio.imread(filename)\n",
    "        writer.append_data(image)"
   ]
  },
  {
   "cell_type": "markdown",
   "id": "9b5ac16b",
   "metadata": {},
   "source": [
    "If the animation below is not responding, double click the image and then shift+enter"
   ]
  },
  {
   "cell_type": "markdown",
   "id": "635768fe",
   "metadata": {},
   "source": [
    "![SegmentLocal](mygif1.gif \"segment\")"
   ]
  },
  {
   "cell_type": "markdown",
   "id": "c97faaa7",
   "metadata": {},
   "source": [
    "## 2.6 Intermediate-level animation"
   ]
  },
  {
   "cell_type": "code",
   "execution_count": 41,
   "id": "d31e9a0a",
   "metadata": {},
   "outputs": [],
   "source": [
    "import numpy as np\n",
    "import matplotlib.pyplot as plt\n",
    "\n",
    "#=== Particle-in-a-box solutions\n",
    "hbar=1\n",
    "mass=1\n",
    "L = 1\n",
    "\n",
    "#=== Eigenvalues\n",
    "n=1\n",
    "E1=n**2 * np.pi**2 * hbar**2 / (2.0 * mass * L**2)\n",
    "n=2\n",
    "E2=n**2 * np.pi**2 * hbar**2 / (2.0 * mass * L**2)\n",
    "\n",
    "x=np.linspace(0,1,101)\n",
    "\n",
    "def psi1(x):  # Ground state, n = 1\n",
    "    n=1\n",
    "    L=1\n",
    "    val=np.sqrt(2.0/L)*np.sin(n*np.pi*x/L)\n",
    "    return val\n",
    "    \n",
    "def psi2(x):  # First excited state, n = 2\n",
    "    n=2\n",
    "    L=1\n",
    "    val=np.sqrt(2.0/L)*np.sin(n*np.pi*x/L)\n",
    "    return val\n",
    "    \n",
    "c1=1.0/np.sqrt(2.0)\n",
    "c2=1.0/np.sqrt(2.0)\n",
    "\n",
    "filenames = []\n",
    "t=0\n",
    "it=0\n",
    "dt=0.01\n",
    "i=complex(0,1)\n",
    "\n",
    "dx=0.1\n",
    "#print(np.sqrt(np.dot(psi1(x)*dx,psi1(x)*dx))) # uncomment to check for Normalization\n",
    "\n",
    "while it <= 100:\n",
    "    psi=c1*psi1(x)*dx*np.exp(-i*E1*t/hbar) + c2*psi2(x)*dx*np.exp(-i*E2*t/hbar)\n",
    "    \n",
    "    plt.plot(x,np.real(psi)**2+np.imag(psi)**2)\n",
    "\n",
    "    plt.xlim(0, 1)\n",
    "    plt.ylim(0, 0.2)\n",
    "    plt.xlabel(\"x\")\n",
    "    plt.ylabel(\"$|\\psi|^2$(x)\")   #NOTE: LaTex syntax for psi\n",
    "    plt.title('Time evolution of $[\\psi_1+\\psi_2]/\\sqrt{2}$')\n",
    "    \n",
    "    plt.text(0.2,0.15, r'$time=$ {0:10.3f} [au]'.format(t), fontsize=10)\n",
    "    \n",
    "    filename='_tmp_'+str(it).zfill(5)+'.png'\n",
    "    filenames.append(filename)\n",
    "    plt.savefig(filename)\n",
    "\n",
    "    plt.close()\n",
    "    t=t+dt\n",
    "    it=it+1\n",
    "    \n",
    "# build gif\n",
    "with imageio.get_writer('mygif2.gif', mode='I') as writer:\n",
    "    for filename in filenames:\n",
    "        image = imageio.imread(filename)\n",
    "        writer.append_data(image)\n",
    "        \n",
    "# Remove tmp files\n",
    "for filename in set(filenames):\n",
    "    os.remove(filename)"
   ]
  },
  {
   "cell_type": "markdown",
   "id": "b67a63a6",
   "metadata": {},
   "source": [
    "Double click the next image and then shift+enter"
   ]
  },
  {
   "cell_type": "markdown",
   "id": "815a0843",
   "metadata": {},
   "source": [
    "![SegmentLocal](mygif2.gif \"segment\")"
   ]
  }
 ],
 "metadata": {
  "kernelspec": {
   "display_name": "Python 3",
   "language": "python",
   "name": "python3"
  },
  "language_info": {
   "codemirror_mode": {
    "name": "ipython",
    "version": 3
   },
   "file_extension": ".py",
   "mimetype": "text/x-python",
   "name": "python",
   "nbconvert_exporter": "python",
   "pygments_lexer": "ipython3",
   "version": "3.9.4"
  }
 },
 "nbformat": 4,
 "nbformat_minor": 5
}
